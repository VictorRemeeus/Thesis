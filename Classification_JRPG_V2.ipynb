{
 "cells": [
  {
   "attachments": {},
   "cell_type": "markdown",
   "metadata": {},
   "source": [
    "Parameter searching: https://www.projectpro.io/recipes/find-optimal-parameters-using-gridsearchcv \\\n",
    "Renaming the last column: https://stackoverflow.com/questions/56479835/rename-only-the-last-column-in-pandas-dataframe-accounting-for-duplicate-header"
   ]
  },
  {
   "attachments": {},
   "cell_type": "markdown",
   "metadata": {},
   "source": [
    "Preperation"
   ]
  },
  {
   "cell_type": "code",
   "execution_count": 1,
   "metadata": {},
   "outputs": [
    {
     "name": "stderr",
     "output_type": "stream",
     "text": [
      "c:\\Users\\victo\\anaconda3\\lib\\site-packages\\xgboost\\compat.py:36: FutureWarning: pandas.Int64Index is deprecated and will be removed from pandas in a future version. Use pandas.Index with the appropriate dtype instead.\n",
      "  from pandas import MultiIndex, Int64Index\n"
     ]
    }
   ],
   "source": [
    "import pandas\n",
    "import numpy as np\n",
    "from sklearn.feature_extraction.text import CountVectorizer\n",
    "from sklearn.model_selection import train_test_split\n",
    "from sklearn.linear_model import LogisticRegression\n",
    "from sklearn.svm import LinearSVC\n",
    "from xgboost import XGBClassifier\n",
    "from sklearn.model_selection import RandomizedSearchCV\n",
    "from sklearn.metrics import f1_score\n",
    "from sklearn.pipeline import Pipeline\n",
    "from sklearn.preprocessing import StandardScaler\n",
    "from sklearn.model_selection import RandomizedSearchCV\n",
    "from sklearn import preprocessing\n",
    "from sklearn.svm import SVC\n",
    "from sklearn.metrics import confusion_matrix, ConfusionMatrixDisplay\n",
    "from sklearn.metrics import classification_report\n",
    "import matplotlib as plt"
   ]
  },
  {
   "cell_type": "code",
   "execution_count": 2,
   "metadata": {},
   "outputs": [
    {
     "name": "stdout",
     "output_type": "stream",
     "text": [
      "1.0.2\n"
     ]
    }
   ],
   "source": [
    "import sklearn\n",
    "print(sklearn.__version__)"
   ]
  },
  {
   "cell_type": "code",
   "execution_count": 2,
   "metadata": {},
   "outputs": [],
   "source": [
    "#loading in dataset normal, STM and BerTopic\n",
    "df = pandas.read_csv(\"G:\\\\Master\\\\Block 3\\\\Thesis\\\\JRPG\\\\JRPG_final.csv\")\n",
    "df_STM = pandas.read_csv(\"G:\\\\Master\\\\Block 3\\\\Thesis\\\\JRPG\\\\features_JRPG_STM.csv\")\n",
    "df_Bert = pandas.read_csv(\"G:\\\\Master\\\\Block 3\\\\Thesis\\\\JRPG\\\\features_JRPG_Bert_reduction.csv\")\n",
    "df_STM_selected = pandas.read_csv(\"G:\\\\Master\\\\Block 3\\\\Thesis\\\\JRPG\\\\JRPG_featured_selected_STM.csv\")\n",
    "df_Bert_selected = pandas.read_csv(\"G:\\\\Master\\\\Block 3\\\\Thesis\\\\JRPG\\\\JRPG_featured_selected_Bert.csv\")"
   ]
  },
  {
   "cell_type": "code",
   "execution_count": 3,
   "metadata": {},
   "outputs": [],
   "source": [
    "df_STM.columns = [*df_STM.columns[:-1], 'sentiment']"
   ]
  },
  {
   "cell_type": "code",
   "execution_count": 5,
   "metadata": {},
   "outputs": [
    {
     "data": {
      "text/html": [
       "<div>\n",
       "<style scoped>\n",
       "    .dataframe tbody tr th:only-of-type {\n",
       "        vertical-align: middle;\n",
       "    }\n",
       "\n",
       "    .dataframe tbody tr th {\n",
       "        vertical-align: top;\n",
       "    }\n",
       "\n",
       "    .dataframe thead th {\n",
       "        text-align: right;\n",
       "    }\n",
       "</style>\n",
       "<table border=\"1\" class=\"dataframe\">\n",
       "  <thead>\n",
       "    <tr style=\"text-align: right;\">\n",
       "      <th></th>\n",
       "      <th>V1</th>\n",
       "      <th>V2</th>\n",
       "      <th>V3</th>\n",
       "      <th>V4</th>\n",
       "      <th>V5</th>\n",
       "      <th>V6</th>\n",
       "      <th>V7</th>\n",
       "      <th>V8</th>\n",
       "      <th>V9</th>\n",
       "      <th>V10</th>\n",
       "      <th>...</th>\n",
       "      <th>V152</th>\n",
       "      <th>V153</th>\n",
       "      <th>V154</th>\n",
       "      <th>V155</th>\n",
       "      <th>V156</th>\n",
       "      <th>V157</th>\n",
       "      <th>V158</th>\n",
       "      <th>V159</th>\n",
       "      <th>V160</th>\n",
       "      <th>sentiment</th>\n",
       "    </tr>\n",
       "  </thead>\n",
       "  <tbody>\n",
       "    <tr>\n",
       "      <th>0</th>\n",
       "      <td>0.000946</td>\n",
       "      <td>0.004229</td>\n",
       "      <td>0.001029</td>\n",
       "      <td>0.002597</td>\n",
       "      <td>0.001067</td>\n",
       "      <td>0.001159</td>\n",
       "      <td>0.001489</td>\n",
       "      <td>0.001309</td>\n",
       "      <td>0.033125</td>\n",
       "      <td>0.002814</td>\n",
       "      <td>...</td>\n",
       "      <td>0.001329</td>\n",
       "      <td>0.001360</td>\n",
       "      <td>0.000579</td>\n",
       "      <td>0.000417</td>\n",
       "      <td>0.002206</td>\n",
       "      <td>0.000220</td>\n",
       "      <td>0.018034</td>\n",
       "      <td>0.001644</td>\n",
       "      <td>0.001930</td>\n",
       "      <td>0</td>\n",
       "    </tr>\n",
       "    <tr>\n",
       "      <th>1</th>\n",
       "      <td>0.000601</td>\n",
       "      <td>0.002419</td>\n",
       "      <td>0.001877</td>\n",
       "      <td>0.013706</td>\n",
       "      <td>0.000828</td>\n",
       "      <td>0.004858</td>\n",
       "      <td>0.000815</td>\n",
       "      <td>0.001497</td>\n",
       "      <td>0.001721</td>\n",
       "      <td>0.001383</td>\n",
       "      <td>...</td>\n",
       "      <td>0.000314</td>\n",
       "      <td>0.001147</td>\n",
       "      <td>0.000138</td>\n",
       "      <td>0.000306</td>\n",
       "      <td>0.000627</td>\n",
       "      <td>0.000383</td>\n",
       "      <td>0.002241</td>\n",
       "      <td>0.000308</td>\n",
       "      <td>0.001134</td>\n",
       "      <td>1</td>\n",
       "    </tr>\n",
       "    <tr>\n",
       "      <th>2</th>\n",
       "      <td>0.000274</td>\n",
       "      <td>0.001343</td>\n",
       "      <td>0.000217</td>\n",
       "      <td>0.001005</td>\n",
       "      <td>0.000304</td>\n",
       "      <td>0.000291</td>\n",
       "      <td>0.000513</td>\n",
       "      <td>0.000618</td>\n",
       "      <td>0.018509</td>\n",
       "      <td>0.001293</td>\n",
       "      <td>...</td>\n",
       "      <td>0.000406</td>\n",
       "      <td>0.000828</td>\n",
       "      <td>0.000313</td>\n",
       "      <td>0.000488</td>\n",
       "      <td>0.002502</td>\n",
       "      <td>0.000056</td>\n",
       "      <td>0.001123</td>\n",
       "      <td>0.005047</td>\n",
       "      <td>0.000774</td>\n",
       "      <td>0</td>\n",
       "    </tr>\n",
       "    <tr>\n",
       "      <th>3</th>\n",
       "      <td>0.000574</td>\n",
       "      <td>0.006220</td>\n",
       "      <td>0.000623</td>\n",
       "      <td>0.001124</td>\n",
       "      <td>0.000791</td>\n",
       "      <td>0.000435</td>\n",
       "      <td>0.001030</td>\n",
       "      <td>0.001222</td>\n",
       "      <td>0.003205</td>\n",
       "      <td>0.005092</td>\n",
       "      <td>...</td>\n",
       "      <td>0.001164</td>\n",
       "      <td>0.001214</td>\n",
       "      <td>0.000259</td>\n",
       "      <td>0.000569</td>\n",
       "      <td>0.002931</td>\n",
       "      <td>0.000724</td>\n",
       "      <td>0.000880</td>\n",
       "      <td>0.001221</td>\n",
       "      <td>0.001472</td>\n",
       "      <td>0</td>\n",
       "    </tr>\n",
       "    <tr>\n",
       "      <th>4</th>\n",
       "      <td>0.002103</td>\n",
       "      <td>0.006105</td>\n",
       "      <td>0.001893</td>\n",
       "      <td>0.001594</td>\n",
       "      <td>0.001879</td>\n",
       "      <td>0.001030</td>\n",
       "      <td>0.005828</td>\n",
       "      <td>0.001948</td>\n",
       "      <td>0.003762</td>\n",
       "      <td>0.013473</td>\n",
       "      <td>...</td>\n",
       "      <td>0.002071</td>\n",
       "      <td>0.002566</td>\n",
       "      <td>0.000289</td>\n",
       "      <td>0.000398</td>\n",
       "      <td>0.001988</td>\n",
       "      <td>0.000751</td>\n",
       "      <td>0.002018</td>\n",
       "      <td>0.001873</td>\n",
       "      <td>0.002254</td>\n",
       "      <td>0</td>\n",
       "    </tr>\n",
       "    <tr>\n",
       "      <th>...</th>\n",
       "      <td>...</td>\n",
       "      <td>...</td>\n",
       "      <td>...</td>\n",
       "      <td>...</td>\n",
       "      <td>...</td>\n",
       "      <td>...</td>\n",
       "      <td>...</td>\n",
       "      <td>...</td>\n",
       "      <td>...</td>\n",
       "      <td>...</td>\n",
       "      <td>...</td>\n",
       "      <td>...</td>\n",
       "      <td>...</td>\n",
       "      <td>...</td>\n",
       "      <td>...</td>\n",
       "      <td>...</td>\n",
       "      <td>...</td>\n",
       "      <td>...</td>\n",
       "      <td>...</td>\n",
       "      <td>...</td>\n",
       "      <td>...</td>\n",
       "    </tr>\n",
       "    <tr>\n",
       "      <th>22016</th>\n",
       "      <td>0.000609</td>\n",
       "      <td>0.002622</td>\n",
       "      <td>0.000624</td>\n",
       "      <td>0.018792</td>\n",
       "      <td>0.000762</td>\n",
       "      <td>0.000707</td>\n",
       "      <td>0.000686</td>\n",
       "      <td>0.000967</td>\n",
       "      <td>0.005292</td>\n",
       "      <td>0.002555</td>\n",
       "      <td>...</td>\n",
       "      <td>0.000439</td>\n",
       "      <td>0.000826</td>\n",
       "      <td>0.000386</td>\n",
       "      <td>0.000374</td>\n",
       "      <td>0.001724</td>\n",
       "      <td>0.000448</td>\n",
       "      <td>0.001086</td>\n",
       "      <td>0.000960</td>\n",
       "      <td>0.001230</td>\n",
       "      <td>0</td>\n",
       "    </tr>\n",
       "    <tr>\n",
       "      <th>22017</th>\n",
       "      <td>0.001277</td>\n",
       "      <td>0.007287</td>\n",
       "      <td>0.003990</td>\n",
       "      <td>0.001820</td>\n",
       "      <td>0.002148</td>\n",
       "      <td>0.001136</td>\n",
       "      <td>0.002438</td>\n",
       "      <td>0.002418</td>\n",
       "      <td>0.000971</td>\n",
       "      <td>0.003876</td>\n",
       "      <td>...</td>\n",
       "      <td>0.001132</td>\n",
       "      <td>0.001727</td>\n",
       "      <td>0.000334</td>\n",
       "      <td>0.000820</td>\n",
       "      <td>0.000915</td>\n",
       "      <td>0.000909</td>\n",
       "      <td>0.000770</td>\n",
       "      <td>0.002556</td>\n",
       "      <td>0.002130</td>\n",
       "      <td>0</td>\n",
       "    </tr>\n",
       "    <tr>\n",
       "      <th>22018</th>\n",
       "      <td>0.002292</td>\n",
       "      <td>0.004106</td>\n",
       "      <td>0.021311</td>\n",
       "      <td>0.001558</td>\n",
       "      <td>0.001766</td>\n",
       "      <td>0.000485</td>\n",
       "      <td>0.002597</td>\n",
       "      <td>0.002586</td>\n",
       "      <td>0.000700</td>\n",
       "      <td>0.006279</td>\n",
       "      <td>...</td>\n",
       "      <td>0.000289</td>\n",
       "      <td>0.002211</td>\n",
       "      <td>0.000497</td>\n",
       "      <td>0.002162</td>\n",
       "      <td>0.034076</td>\n",
       "      <td>0.000394</td>\n",
       "      <td>0.001061</td>\n",
       "      <td>0.003629</td>\n",
       "      <td>0.001872</td>\n",
       "      <td>0</td>\n",
       "    </tr>\n",
       "    <tr>\n",
       "      <th>22019</th>\n",
       "      <td>0.001918</td>\n",
       "      <td>0.005234</td>\n",
       "      <td>0.002407</td>\n",
       "      <td>0.064734</td>\n",
       "      <td>0.004365</td>\n",
       "      <td>0.001380</td>\n",
       "      <td>0.002878</td>\n",
       "      <td>0.001677</td>\n",
       "      <td>0.003644</td>\n",
       "      <td>0.003618</td>\n",
       "      <td>...</td>\n",
       "      <td>0.000506</td>\n",
       "      <td>0.002391</td>\n",
       "      <td>0.001036</td>\n",
       "      <td>0.001060</td>\n",
       "      <td>0.001988</td>\n",
       "      <td>0.000870</td>\n",
       "      <td>0.002659</td>\n",
       "      <td>0.032034</td>\n",
       "      <td>0.002224</td>\n",
       "      <td>0</td>\n",
       "    </tr>\n",
       "    <tr>\n",
       "      <th>22020</th>\n",
       "      <td>0.000851</td>\n",
       "      <td>0.003010</td>\n",
       "      <td>0.001833</td>\n",
       "      <td>0.008917</td>\n",
       "      <td>0.001172</td>\n",
       "      <td>0.000779</td>\n",
       "      <td>0.001236</td>\n",
       "      <td>0.001382</td>\n",
       "      <td>0.001119</td>\n",
       "      <td>0.001367</td>\n",
       "      <td>...</td>\n",
       "      <td>0.000480</td>\n",
       "      <td>0.001719</td>\n",
       "      <td>0.000256</td>\n",
       "      <td>0.000335</td>\n",
       "      <td>0.001047</td>\n",
       "      <td>0.000749</td>\n",
       "      <td>0.000945</td>\n",
       "      <td>0.001902</td>\n",
       "      <td>0.001521</td>\n",
       "      <td>1</td>\n",
       "    </tr>\n",
       "  </tbody>\n",
       "</table>\n",
       "<p>22021 rows × 161 columns</p>\n",
       "</div>"
      ],
      "text/plain": [
       "             V1        V2        V3        V4        V5        V6        V7  \\\n",
       "0      0.000946  0.004229  0.001029  0.002597  0.001067  0.001159  0.001489   \n",
       "1      0.000601  0.002419  0.001877  0.013706  0.000828  0.004858  0.000815   \n",
       "2      0.000274  0.001343  0.000217  0.001005  0.000304  0.000291  0.000513   \n",
       "3      0.000574  0.006220  0.000623  0.001124  0.000791  0.000435  0.001030   \n",
       "4      0.002103  0.006105  0.001893  0.001594  0.001879  0.001030  0.005828   \n",
       "...         ...       ...       ...       ...       ...       ...       ...   \n",
       "22016  0.000609  0.002622  0.000624  0.018792  0.000762  0.000707  0.000686   \n",
       "22017  0.001277  0.007287  0.003990  0.001820  0.002148  0.001136  0.002438   \n",
       "22018  0.002292  0.004106  0.021311  0.001558  0.001766  0.000485  0.002597   \n",
       "22019  0.001918  0.005234  0.002407  0.064734  0.004365  0.001380  0.002878   \n",
       "22020  0.000851  0.003010  0.001833  0.008917  0.001172  0.000779  0.001236   \n",
       "\n",
       "             V8        V9       V10  ...      V152      V153      V154  \\\n",
       "0      0.001309  0.033125  0.002814  ...  0.001329  0.001360  0.000579   \n",
       "1      0.001497  0.001721  0.001383  ...  0.000314  0.001147  0.000138   \n",
       "2      0.000618  0.018509  0.001293  ...  0.000406  0.000828  0.000313   \n",
       "3      0.001222  0.003205  0.005092  ...  0.001164  0.001214  0.000259   \n",
       "4      0.001948  0.003762  0.013473  ...  0.002071  0.002566  0.000289   \n",
       "...         ...       ...       ...  ...       ...       ...       ...   \n",
       "22016  0.000967  0.005292  0.002555  ...  0.000439  0.000826  0.000386   \n",
       "22017  0.002418  0.000971  0.003876  ...  0.001132  0.001727  0.000334   \n",
       "22018  0.002586  0.000700  0.006279  ...  0.000289  0.002211  0.000497   \n",
       "22019  0.001677  0.003644  0.003618  ...  0.000506  0.002391  0.001036   \n",
       "22020  0.001382  0.001119  0.001367  ...  0.000480  0.001719  0.000256   \n",
       "\n",
       "           V155      V156      V157      V158      V159      V160  sentiment  \n",
       "0      0.000417  0.002206  0.000220  0.018034  0.001644  0.001930          0  \n",
       "1      0.000306  0.000627  0.000383  0.002241  0.000308  0.001134          1  \n",
       "2      0.000488  0.002502  0.000056  0.001123  0.005047  0.000774          0  \n",
       "3      0.000569  0.002931  0.000724  0.000880  0.001221  0.001472          0  \n",
       "4      0.000398  0.001988  0.000751  0.002018  0.001873  0.002254          0  \n",
       "...         ...       ...       ...       ...       ...       ...        ...  \n",
       "22016  0.000374  0.001724  0.000448  0.001086  0.000960  0.001230          0  \n",
       "22017  0.000820  0.000915  0.000909  0.000770  0.002556  0.002130          0  \n",
       "22018  0.002162  0.034076  0.000394  0.001061  0.003629  0.001872          0  \n",
       "22019  0.001060  0.001988  0.000870  0.002659  0.032034  0.002224          0  \n",
       "22020  0.000335  0.001047  0.000749  0.000945  0.001902  0.001521          1  \n",
       "\n",
       "[22021 rows x 161 columns]"
      ]
     },
     "execution_count": 5,
     "metadata": {},
     "output_type": "execute_result"
    }
   ],
   "source": [
    "df_STM"
   ]
  },
  {
   "cell_type": "code",
   "execution_count": 3,
   "metadata": {},
   "outputs": [
    {
     "data": {
      "text/html": [
       "<div>\n",
       "<style scoped>\n",
       "    .dataframe tbody tr th:only-of-type {\n",
       "        vertical-align: middle;\n",
       "    }\n",
       "\n",
       "    .dataframe tbody tr th {\n",
       "        vertical-align: top;\n",
       "    }\n",
       "\n",
       "    .dataframe thead th {\n",
       "        text-align: right;\n",
       "    }\n",
       "</style>\n",
       "<table border=\"1\" class=\"dataframe\">\n",
       "  <thead>\n",
       "    <tr style=\"text-align: right;\">\n",
       "      <th></th>\n",
       "      <th>V1</th>\n",
       "      <th>V2</th>\n",
       "      <th>V3</th>\n",
       "      <th>V4</th>\n",
       "      <th>V5</th>\n",
       "      <th>V6</th>\n",
       "      <th>V7</th>\n",
       "      <th>V8</th>\n",
       "      <th>V9</th>\n",
       "      <th>V10</th>\n",
       "      <th>...</th>\n",
       "      <th>V151</th>\n",
       "      <th>V152</th>\n",
       "      <th>V153</th>\n",
       "      <th>V154</th>\n",
       "      <th>V156</th>\n",
       "      <th>V157</th>\n",
       "      <th>V158</th>\n",
       "      <th>V159</th>\n",
       "      <th>V160</th>\n",
       "      <th>sentiment</th>\n",
       "    </tr>\n",
       "  </thead>\n",
       "  <tbody>\n",
       "    <tr>\n",
       "      <th>0</th>\n",
       "      <td>0.000946</td>\n",
       "      <td>0.004229</td>\n",
       "      <td>0.001029</td>\n",
       "      <td>0.002597</td>\n",
       "      <td>0.001067</td>\n",
       "      <td>0.001159</td>\n",
       "      <td>0.001489</td>\n",
       "      <td>0.001309</td>\n",
       "      <td>0.033125</td>\n",
       "      <td>0.002814</td>\n",
       "      <td>...</td>\n",
       "      <td>0.021782</td>\n",
       "      <td>0.001329</td>\n",
       "      <td>0.001360</td>\n",
       "      <td>0.000579</td>\n",
       "      <td>0.002206</td>\n",
       "      <td>0.000220</td>\n",
       "      <td>0.018034</td>\n",
       "      <td>0.001644</td>\n",
       "      <td>0.001930</td>\n",
       "      <td>0</td>\n",
       "    </tr>\n",
       "    <tr>\n",
       "      <th>1</th>\n",
       "      <td>0.000601</td>\n",
       "      <td>0.002419</td>\n",
       "      <td>0.001877</td>\n",
       "      <td>0.013706</td>\n",
       "      <td>0.000828</td>\n",
       "      <td>0.004858</td>\n",
       "      <td>0.000815</td>\n",
       "      <td>0.001497</td>\n",
       "      <td>0.001721</td>\n",
       "      <td>0.001383</td>\n",
       "      <td>...</td>\n",
       "      <td>0.005984</td>\n",
       "      <td>0.000314</td>\n",
       "      <td>0.001147</td>\n",
       "      <td>0.000138</td>\n",
       "      <td>0.000627</td>\n",
       "      <td>0.000383</td>\n",
       "      <td>0.002241</td>\n",
       "      <td>0.000308</td>\n",
       "      <td>0.001134</td>\n",
       "      <td>1</td>\n",
       "    </tr>\n",
       "    <tr>\n",
       "      <th>2</th>\n",
       "      <td>0.000274</td>\n",
       "      <td>0.001343</td>\n",
       "      <td>0.000217</td>\n",
       "      <td>0.001005</td>\n",
       "      <td>0.000304</td>\n",
       "      <td>0.000291</td>\n",
       "      <td>0.000513</td>\n",
       "      <td>0.000618</td>\n",
       "      <td>0.018509</td>\n",
       "      <td>0.001293</td>\n",
       "      <td>...</td>\n",
       "      <td>0.006437</td>\n",
       "      <td>0.000406</td>\n",
       "      <td>0.000828</td>\n",
       "      <td>0.000313</td>\n",
       "      <td>0.002502</td>\n",
       "      <td>0.000056</td>\n",
       "      <td>0.001123</td>\n",
       "      <td>0.005047</td>\n",
       "      <td>0.000774</td>\n",
       "      <td>0</td>\n",
       "    </tr>\n",
       "    <tr>\n",
       "      <th>3</th>\n",
       "      <td>0.000574</td>\n",
       "      <td>0.006220</td>\n",
       "      <td>0.000623</td>\n",
       "      <td>0.001124</td>\n",
       "      <td>0.000791</td>\n",
       "      <td>0.000435</td>\n",
       "      <td>0.001030</td>\n",
       "      <td>0.001222</td>\n",
       "      <td>0.003205</td>\n",
       "      <td>0.005092</td>\n",
       "      <td>...</td>\n",
       "      <td>0.082207</td>\n",
       "      <td>0.001164</td>\n",
       "      <td>0.001214</td>\n",
       "      <td>0.000259</td>\n",
       "      <td>0.002931</td>\n",
       "      <td>0.000724</td>\n",
       "      <td>0.000880</td>\n",
       "      <td>0.001221</td>\n",
       "      <td>0.001472</td>\n",
       "      <td>0</td>\n",
       "    </tr>\n",
       "    <tr>\n",
       "      <th>4</th>\n",
       "      <td>0.002103</td>\n",
       "      <td>0.006105</td>\n",
       "      <td>0.001893</td>\n",
       "      <td>0.001594</td>\n",
       "      <td>0.001879</td>\n",
       "      <td>0.001030</td>\n",
       "      <td>0.005828</td>\n",
       "      <td>0.001948</td>\n",
       "      <td>0.003762</td>\n",
       "      <td>0.013473</td>\n",
       "      <td>...</td>\n",
       "      <td>0.115161</td>\n",
       "      <td>0.002071</td>\n",
       "      <td>0.002566</td>\n",
       "      <td>0.000289</td>\n",
       "      <td>0.001988</td>\n",
       "      <td>0.000751</td>\n",
       "      <td>0.002018</td>\n",
       "      <td>0.001873</td>\n",
       "      <td>0.002254</td>\n",
       "      <td>0</td>\n",
       "    </tr>\n",
       "    <tr>\n",
       "      <th>...</th>\n",
       "      <td>...</td>\n",
       "      <td>...</td>\n",
       "      <td>...</td>\n",
       "      <td>...</td>\n",
       "      <td>...</td>\n",
       "      <td>...</td>\n",
       "      <td>...</td>\n",
       "      <td>...</td>\n",
       "      <td>...</td>\n",
       "      <td>...</td>\n",
       "      <td>...</td>\n",
       "      <td>...</td>\n",
       "      <td>...</td>\n",
       "      <td>...</td>\n",
       "      <td>...</td>\n",
       "      <td>...</td>\n",
       "      <td>...</td>\n",
       "      <td>...</td>\n",
       "      <td>...</td>\n",
       "      <td>...</td>\n",
       "      <td>...</td>\n",
       "    </tr>\n",
       "    <tr>\n",
       "      <th>22016</th>\n",
       "      <td>0.000609</td>\n",
       "      <td>0.002622</td>\n",
       "      <td>0.000624</td>\n",
       "      <td>0.018792</td>\n",
       "      <td>0.000762</td>\n",
       "      <td>0.000707</td>\n",
       "      <td>0.000686</td>\n",
       "      <td>0.000967</td>\n",
       "      <td>0.005292</td>\n",
       "      <td>0.002555</td>\n",
       "      <td>...</td>\n",
       "      <td>0.033956</td>\n",
       "      <td>0.000439</td>\n",
       "      <td>0.000826</td>\n",
       "      <td>0.000386</td>\n",
       "      <td>0.001724</td>\n",
       "      <td>0.000448</td>\n",
       "      <td>0.001086</td>\n",
       "      <td>0.000960</td>\n",
       "      <td>0.001230</td>\n",
       "      <td>0</td>\n",
       "    </tr>\n",
       "    <tr>\n",
       "      <th>22017</th>\n",
       "      <td>0.001277</td>\n",
       "      <td>0.007287</td>\n",
       "      <td>0.003990</td>\n",
       "      <td>0.001820</td>\n",
       "      <td>0.002148</td>\n",
       "      <td>0.001136</td>\n",
       "      <td>0.002438</td>\n",
       "      <td>0.002418</td>\n",
       "      <td>0.000971</td>\n",
       "      <td>0.003876</td>\n",
       "      <td>...</td>\n",
       "      <td>0.034481</td>\n",
       "      <td>0.001132</td>\n",
       "      <td>0.001727</td>\n",
       "      <td>0.000334</td>\n",
       "      <td>0.000915</td>\n",
       "      <td>0.000909</td>\n",
       "      <td>0.000770</td>\n",
       "      <td>0.002556</td>\n",
       "      <td>0.002130</td>\n",
       "      <td>0</td>\n",
       "    </tr>\n",
       "    <tr>\n",
       "      <th>22018</th>\n",
       "      <td>0.002292</td>\n",
       "      <td>0.004106</td>\n",
       "      <td>0.021311</td>\n",
       "      <td>0.001558</td>\n",
       "      <td>0.001766</td>\n",
       "      <td>0.000485</td>\n",
       "      <td>0.002597</td>\n",
       "      <td>0.002586</td>\n",
       "      <td>0.000700</td>\n",
       "      <td>0.006279</td>\n",
       "      <td>...</td>\n",
       "      <td>0.016436</td>\n",
       "      <td>0.000289</td>\n",
       "      <td>0.002211</td>\n",
       "      <td>0.000497</td>\n",
       "      <td>0.034076</td>\n",
       "      <td>0.000394</td>\n",
       "      <td>0.001061</td>\n",
       "      <td>0.003629</td>\n",
       "      <td>0.001872</td>\n",
       "      <td>0</td>\n",
       "    </tr>\n",
       "    <tr>\n",
       "      <th>22019</th>\n",
       "      <td>0.001918</td>\n",
       "      <td>0.005234</td>\n",
       "      <td>0.002407</td>\n",
       "      <td>0.064734</td>\n",
       "      <td>0.004365</td>\n",
       "      <td>0.001380</td>\n",
       "      <td>0.002878</td>\n",
       "      <td>0.001677</td>\n",
       "      <td>0.003644</td>\n",
       "      <td>0.003618</td>\n",
       "      <td>...</td>\n",
       "      <td>0.027758</td>\n",
       "      <td>0.000506</td>\n",
       "      <td>0.002391</td>\n",
       "      <td>0.001036</td>\n",
       "      <td>0.001988</td>\n",
       "      <td>0.000870</td>\n",
       "      <td>0.002659</td>\n",
       "      <td>0.032034</td>\n",
       "      <td>0.002224</td>\n",
       "      <td>0</td>\n",
       "    </tr>\n",
       "    <tr>\n",
       "      <th>22020</th>\n",
       "      <td>0.000851</td>\n",
       "      <td>0.003010</td>\n",
       "      <td>0.001833</td>\n",
       "      <td>0.008917</td>\n",
       "      <td>0.001172</td>\n",
       "      <td>0.000779</td>\n",
       "      <td>0.001236</td>\n",
       "      <td>0.001382</td>\n",
       "      <td>0.001119</td>\n",
       "      <td>0.001367</td>\n",
       "      <td>...</td>\n",
       "      <td>0.010225</td>\n",
       "      <td>0.000480</td>\n",
       "      <td>0.001719</td>\n",
       "      <td>0.000256</td>\n",
       "      <td>0.001047</td>\n",
       "      <td>0.000749</td>\n",
       "      <td>0.000945</td>\n",
       "      <td>0.001902</td>\n",
       "      <td>0.001521</td>\n",
       "      <td>1</td>\n",
       "    </tr>\n",
       "  </tbody>\n",
       "</table>\n",
       "<p>22021 rows × 151 columns</p>\n",
       "</div>"
      ],
      "text/plain": [
       "             V1        V2        V3        V4        V5        V6        V7  \\\n",
       "0      0.000946  0.004229  0.001029  0.002597  0.001067  0.001159  0.001489   \n",
       "1      0.000601  0.002419  0.001877  0.013706  0.000828  0.004858  0.000815   \n",
       "2      0.000274  0.001343  0.000217  0.001005  0.000304  0.000291  0.000513   \n",
       "3      0.000574  0.006220  0.000623  0.001124  0.000791  0.000435  0.001030   \n",
       "4      0.002103  0.006105  0.001893  0.001594  0.001879  0.001030  0.005828   \n",
       "...         ...       ...       ...       ...       ...       ...       ...   \n",
       "22016  0.000609  0.002622  0.000624  0.018792  0.000762  0.000707  0.000686   \n",
       "22017  0.001277  0.007287  0.003990  0.001820  0.002148  0.001136  0.002438   \n",
       "22018  0.002292  0.004106  0.021311  0.001558  0.001766  0.000485  0.002597   \n",
       "22019  0.001918  0.005234  0.002407  0.064734  0.004365  0.001380  0.002878   \n",
       "22020  0.000851  0.003010  0.001833  0.008917  0.001172  0.000779  0.001236   \n",
       "\n",
       "             V8        V9       V10  ...      V151      V152      V153  \\\n",
       "0      0.001309  0.033125  0.002814  ...  0.021782  0.001329  0.001360   \n",
       "1      0.001497  0.001721  0.001383  ...  0.005984  0.000314  0.001147   \n",
       "2      0.000618  0.018509  0.001293  ...  0.006437  0.000406  0.000828   \n",
       "3      0.001222  0.003205  0.005092  ...  0.082207  0.001164  0.001214   \n",
       "4      0.001948  0.003762  0.013473  ...  0.115161  0.002071  0.002566   \n",
       "...         ...       ...       ...  ...       ...       ...       ...   \n",
       "22016  0.000967  0.005292  0.002555  ...  0.033956  0.000439  0.000826   \n",
       "22017  0.002418  0.000971  0.003876  ...  0.034481  0.001132  0.001727   \n",
       "22018  0.002586  0.000700  0.006279  ...  0.016436  0.000289  0.002211   \n",
       "22019  0.001677  0.003644  0.003618  ...  0.027758  0.000506  0.002391   \n",
       "22020  0.001382  0.001119  0.001367  ...  0.010225  0.000480  0.001719   \n",
       "\n",
       "           V154      V156      V157      V158      V159      V160  sentiment  \n",
       "0      0.000579  0.002206  0.000220  0.018034  0.001644  0.001930          0  \n",
       "1      0.000138  0.000627  0.000383  0.002241  0.000308  0.001134          1  \n",
       "2      0.000313  0.002502  0.000056  0.001123  0.005047  0.000774          0  \n",
       "3      0.000259  0.002931  0.000724  0.000880  0.001221  0.001472          0  \n",
       "4      0.000289  0.001988  0.000751  0.002018  0.001873  0.002254          0  \n",
       "...         ...       ...       ...       ...       ...       ...        ...  \n",
       "22016  0.000386  0.001724  0.000448  0.001086  0.000960  0.001230          0  \n",
       "22017  0.000334  0.000915  0.000909  0.000770  0.002556  0.002130          0  \n",
       "22018  0.000497  0.034076  0.000394  0.001061  0.003629  0.001872          0  \n",
       "22019  0.001036  0.001988  0.000870  0.002659  0.032034  0.002224          0  \n",
       "22020  0.000256  0.001047  0.000749  0.000945  0.001902  0.001521          1  \n",
       "\n",
       "[22021 rows x 151 columns]"
      ]
     },
     "execution_count": 3,
     "metadata": {},
     "output_type": "execute_result"
    }
   ],
   "source": [
    "df_STM_selected"
   ]
  },
  {
   "cell_type": "code",
   "execution_count": null,
   "metadata": {},
   "outputs": [],
   "source": [
    "df_Bert_selected"
   ]
  },
  {
   "cell_type": "code",
   "execution_count": null,
   "metadata": {},
   "outputs": [],
   "source": [
    "df_Bert"
   ]
  },
  {
   "cell_type": "code",
   "execution_count": 4,
   "metadata": {},
   "outputs": [],
   "source": [
    "#vectorizing the bag of words\n",
    "vectorizer_model = CountVectorizer(min_df = 5)\n"
   ]
  },
  {
   "cell_type": "code",
   "execution_count": 5,
   "metadata": {},
   "outputs": [],
   "source": [
    "#splitting the columns in X and y\n",
    "bow_X = vectorizer_model.fit_transform(df[\"review_text\"].values)\n",
    "bow_y = df[\"review_score\"].values\n",
    "STM_X = df_STM.drop(\"sentiment\", axis=1)\n",
    "STM_X = STM_X.values\n",
    "STM_y = df_STM[\"sentiment\"].values\n",
    "STM_X_selected = df_STM_selected.drop(\"sentiment\", axis = 1)\n",
    "STM_y_selected = df_STM_selected[\"sentiment\"].values\n",
    "Bert_X = df_Bert.drop([\"sentiment\", \"Unnamed: 0\"], axis=1)\n",
    "Bert_X = Bert_X.values\n",
    "Bert_y = df_Bert[\"sentiment\"].values\n",
    "Bert_X_selected = df_Bert_selected.drop(\"sentiment\", axis = 1)\n",
    "Bert_y_selected = df_Bert_selected[\"sentiment\"].values"
   ]
  },
  {
   "cell_type": "code",
   "execution_count": 9,
   "metadata": {},
   "outputs": [
    {
     "data": {
      "text/plain": [
       "<22024x13981 sparse matrix of type '<class 'numpy.int64'>'\n",
       "\twith 1828966 stored elements in Compressed Sparse Row format>"
      ]
     },
     "execution_count": 9,
     "metadata": {},
     "output_type": "execute_result"
    }
   ],
   "source": [
    "bow_X"
   ]
  },
  {
   "cell_type": "code",
   "execution_count": 6,
   "metadata": {},
   "outputs": [],
   "source": [
    "#splitting the sets\n",
    "bow_X_train, bow_X_test, bow_y_train, bow_y_test = train_test_split(bow_X, bow_y, random_state = 101)\n",
    "STM_X_train, STM_X_test, STM_y_train, STM_y_test = train_test_split(STM_X, STM_y, random_state = 101)\n",
    "Bert_X_train, Bert_X_test, Bert_y_train, Bert_y_test = train_test_split(Bert_X, Bert_y, random_state = 101)\n",
    "STM_X_selected_train, STM_X_selected_test, STM_y_selected_train, STM_y_selected_test = train_test_split(STM_X_selected,STM_y_selected, random_state=101)\n",
    "Bert_X_selected_train, Bert_X_selected_test, Bert_y_selected_train, Bert_y_selected_test = train_test_split(Bert_X_selected,Bert_y_selected, random_state=101)"
   ]
  },
  {
   "cell_type": "code",
   "execution_count": 7,
   "metadata": {},
   "outputs": [],
   "source": [
    "le_bow = preprocessing.LabelEncoder()\n",
    "bow_y_train = le_bow.fit_transform(bow_y_train)\n",
    "bow_y_test = le_bow.transform(bow_y_test)"
   ]
  },
  {
   "cell_type": "code",
   "execution_count": 8,
   "metadata": {},
   "outputs": [],
   "source": [
    "le_stm = preprocessing.LabelEncoder()\n",
    "STM_y_train = le_stm.fit_transform(STM_y_train)\n",
    "STM_y_test = le_stm.transform(STM_y_test)"
   ]
  },
  {
   "cell_type": "code",
   "execution_count": 9,
   "metadata": {},
   "outputs": [],
   "source": [
    "le_bert = preprocessing.LabelEncoder()\n",
    "Bert_y_train = le_bert.fit_transform(Bert_y_train)\n",
    "Bert_y_test = le_bert.transform(Bert_y_test)"
   ]
  },
  {
   "cell_type": "code",
   "execution_count": 10,
   "metadata": {},
   "outputs": [],
   "source": [
    "le_stm_selected = preprocessing.LabelEncoder()\n",
    "STM_y_selected_train = le_stm.fit_transform(STM_y_selected_train)\n",
    "STM_y_selected_test = le_stm.transform(STM_y_selected_test)"
   ]
  },
  {
   "cell_type": "code",
   "execution_count": 11,
   "metadata": {},
   "outputs": [],
   "source": [
    "le_bert_selected = preprocessing.LabelEncoder()\n",
    "Bert_y_selected_train = le_bert.fit_transform(Bert_y_selected_train)\n",
    "Bert_y_selected_test = le_bert.transform(Bert_y_selected_test)"
   ]
  },
  {
   "attachments": {},
   "cell_type": "markdown",
   "metadata": {},
   "source": [
    "Logistic Regression"
   ]
  },
  {
   "cell_type": "code",
   "execution_count": 16,
   "metadata": {},
   "outputs": [],
   "source": [
    "LR = LogisticRegression(random_state=101, max_iter=1000) "
   ]
  },
  {
   "cell_type": "code",
   "execution_count": 17,
   "metadata": {},
   "outputs": [],
   "source": [
    "parameters_LR = {\"C\": np.logspace(-4, 4, 20), \"class_weight\":[None, \"balanced\"], \"solver\": [\"liblinear\", \"lbfgs\"]}"
   ]
  },
  {
   "cell_type": "code",
   "execution_count": 18,
   "metadata": {},
   "outputs": [
    {
     "name": "stdout",
     "output_type": "stream",
     "text": [
      "Fitting 5 folds for each of 10 candidates, totalling 50 fits\n",
      " Results from Randomized Search \n",
      "\\n The best estimator across ALL searched params:\\n LogisticRegression(C=0.23357214690901212, class_weight='balanced',\n",
      "                   max_iter=1000, random_state=101, solver='liblinear')\n",
      "\\n The best score across ALL searched params:\\n 0.6998293663767401\n",
      "\\n The best parameters across ALL searched params:\\n {'solver': 'liblinear', 'class_weight': 'balanced', 'C': 0.23357214690901212}\n"
     ]
    }
   ],
   "source": [
    "#BOW\n",
    "Randomized_search_LR_BOW = RandomizedSearchCV(LR, parameters_LR, verbose=1, scoring=\"f1\", n_jobs = 2)\n",
    "Randomized_search_LR_BOW.fit(bow_X_train, bow_y_train)\n",
    "print(\" Results from Randomized Search \" )\n",
    "print(\"\\\\n The best estimator across ALL searched params:\\\\n\",Randomized_search_LR_BOW.best_estimator_)\n",
    "print(\"\\\\n The best score across ALL searched params:\\\\n\",Randomized_search_LR_BOW.best_score_)\n",
    "print(\"\\\\n The best parameters across ALL searched params:\\\\n\",Randomized_search_LR_BOW.best_params_)"
   ]
  },
  {
   "cell_type": "code",
   "execution_count": 19,
   "metadata": {},
   "outputs": [
    {
     "data": {
      "text/plain": [
       "0.7110347788750535"
      ]
     },
     "execution_count": 19,
     "metadata": {},
     "output_type": "execute_result"
    }
   ],
   "source": [
    "#BOW final\n",
    "LR_final_BOW = Randomized_search_LR_BOW.best_estimator_\n",
    "LR_final_BOW.fit(bow_X_train, bow_y_train)\n",
    "bow_y_pred_LR = LR_final_BOW.predict(bow_X_test)\n",
    "#test score\n",
    "f1_score(bow_y_test, bow_y_pred_LR)"
   ]
  },
  {
   "cell_type": "code",
   "execution_count": 20,
   "metadata": {},
   "outputs": [
    {
     "name": "stdout",
     "output_type": "stream",
     "text": [
      "Fitting 5 folds for each of 10 candidates, totalling 50 fits\n",
      " Results from Randomized Search \n",
      "\\n The best estimator across ALL searched params:\\n LogisticRegression(C=78.47599703514607, class_weight='balanced', max_iter=1000,\n",
      "                   random_state=101)\n",
      "\\n The best score across ALL searched params:\\n 0.6349198631141159\n",
      "\\n The best parameters across ALL searched params:\\n {'solver': 'lbfgs', 'class_weight': 'balanced', 'C': 78.47599703514607}\n"
     ]
    }
   ],
   "source": [
    "#STM\n",
    "Randomized_search_LR_STM = RandomizedSearchCV(LR, parameters_LR, verbose=1, scoring=\"f1\", n_jobs = 2)\n",
    "Randomized_search_LR_STM.fit(STM_X_train, STM_y_train)\n",
    "print(\" Results from Randomized Search \" )\n",
    "print(\"\\\\n The best estimator across ALL searched params:\\\\n\",Randomized_search_LR_STM.best_estimator_)\n",
    "print(\"\\\\n The best score across ALL searched params:\\\\n\",Randomized_search_LR_STM.best_score_)\n",
    "print(\"\\\\n The best parameters across ALL searched params:\\\\n\",Randomized_search_LR_STM.best_params_)"
   ]
  },
  {
   "cell_type": "code",
   "execution_count": 21,
   "metadata": {},
   "outputs": [
    {
     "data": {
      "text/plain": [
       "0.6470588235294117"
      ]
     },
     "execution_count": 21,
     "metadata": {},
     "output_type": "execute_result"
    }
   ],
   "source": [
    "#STM final\n",
    "LR_final_STM = Randomized_search_LR_STM.best_estimator_\n",
    "LR_final_STM.fit(STM_X_train, STM_y_train)\n",
    "STM_y_pred_LR = LR_final_STM.predict(STM_X_test)\n",
    "#test score\n",
    "f1_score(STM_y_test, STM_y_pred_LR)"
   ]
  },
  {
   "cell_type": "code",
   "execution_count": 22,
   "metadata": {},
   "outputs": [
    {
     "name": "stdout",
     "output_type": "stream",
     "text": [
      "Fitting 5 folds for each of 10 candidates, totalling 50 fits\n",
      " Results from Randomized Search \n",
      "\\n The best estimator across ALL searched params:\\n LogisticRegression(C=78.47599703514607, class_weight='balanced', max_iter=1000,\n",
      "                   random_state=101)\n",
      "\\n The best score across ALL searched params:\\n 0.634387842420699\n",
      "\\n The best parameters across ALL searched params:\\n {'solver': 'lbfgs', 'class_weight': 'balanced', 'C': 78.47599703514607}\n"
     ]
    }
   ],
   "source": [
    "#STM selected\n",
    "Randomized_search_LR_STM_selected = RandomizedSearchCV(LR, parameters_LR, verbose=1, scoring=\"f1\", n_jobs = 2)\n",
    "Randomized_search_LR_STM_selected.fit(STM_X_selected_train, STM_y_selected_train)\n",
    "print(\" Results from Randomized Search \" )\n",
    "print(\"\\\\n The best estimator across ALL searched params:\\\\n\",Randomized_search_LR_STM_selected.best_estimator_)\n",
    "print(\"\\\\n The best score across ALL searched params:\\\\n\",Randomized_search_LR_STM_selected.best_score_)\n",
    "print(\"\\\\n The best parameters across ALL searched params:\\\\n\",Randomized_search_LR_STM_selected.best_params_)"
   ]
  },
  {
   "cell_type": "code",
   "execution_count": 23,
   "metadata": {},
   "outputs": [
    {
     "data": {
      "text/plain": [
       "0.6472564389697649"
      ]
     },
     "execution_count": 23,
     "metadata": {},
     "output_type": "execute_result"
    }
   ],
   "source": [
    "#STM selected final\n",
    "LR_final_STM_selected = Randomized_search_LR_STM_selected.best_estimator_\n",
    "LR_final_STM_selected.fit(STM_X_selected_train, STM_y_selected_train)\n",
    "STM_y_selected_pred_LR = LR_final_STM_selected.predict(STM_X_selected_test)\n",
    "#test score\n",
    "f1_score(STM_y_selected_test, STM_y_selected_pred_LR)"
   ]
  },
  {
   "cell_type": "code",
   "execution_count": 24,
   "metadata": {},
   "outputs": [
    {
     "name": "stdout",
     "output_type": "stream",
     "text": [
      "Fitting 5 folds for each of 10 candidates, totalling 50 fits\n",
      " Results from Randomized Search \n",
      "\\n The best estimator across ALL searched params:\\n LogisticRegression(C=1.623776739188721, class_weight='balanced', max_iter=1000,\n",
      "                   random_state=101, solver='liblinear')\n",
      "\\n The best score across ALL searched params:\\n 0.4174763120942407\n",
      "\\n The best parameters across ALL searched params:\\n {'solver': 'liblinear', 'class_weight': 'balanced', 'C': 1.623776739188721}\n"
     ]
    }
   ],
   "source": [
    "#BERTopic\n",
    "Randomized_search_LR_Bert = RandomizedSearchCV(LR, parameters_LR, verbose=1, scoring=\"f1\", n_jobs = 2)\n",
    "Randomized_search_LR_Bert.fit(Bert_X_train, Bert_y_train)\n",
    "print(\" Results from Randomized Search \" )\n",
    "print(\"\\\\n The best estimator across ALL searched params:\\\\n\",Randomized_search_LR_Bert.best_estimator_)\n",
    "print(\"\\\\n The best score across ALL searched params:\\\\n\",Randomized_search_LR_Bert.best_score_)\n",
    "print(\"\\\\n The best parameters across ALL searched params:\\\\n\",Randomized_search_LR_Bert.best_params_)"
   ]
  },
  {
   "cell_type": "code",
   "execution_count": 25,
   "metadata": {},
   "outputs": [
    {
     "data": {
      "text/plain": [
       "0.433465560764515"
      ]
     },
     "execution_count": 25,
     "metadata": {},
     "output_type": "execute_result"
    }
   ],
   "source": [
    "#BERT final 0.48 veel features, 0.42 outlier reduction\n",
    "LR_final_Bert = Randomized_search_LR_Bert.best_estimator_\n",
    "LR_final_Bert.fit(Bert_X_train, Bert_y_train)\n",
    "Bert_y_pred_LR = LR_final_Bert.predict(Bert_X_test)\n",
    "#test score\n",
    "f1_score(Bert_y_test, Bert_y_pred_LR)"
   ]
  },
  {
   "cell_type": "code",
   "execution_count": 26,
   "metadata": {},
   "outputs": [
    {
     "name": "stdout",
     "output_type": "stream",
     "text": [
      "Fitting 5 folds for each of 10 candidates, totalling 50 fits\n",
      " Results from Randomized Search \n",
      "\\n The best estimator across ALL searched params:\\n LogisticRegression(C=206.913808111479, class_weight='balanced', max_iter=1000,\n",
      "                   random_state=101)\n",
      "\\n The best score across ALL searched params:\\n 0.4135250077924589\n",
      "\\n The best parameters across ALL searched params:\\n {'solver': 'lbfgs', 'class_weight': 'balanced', 'C': 206.913808111479}\n"
     ]
    }
   ],
   "source": [
    "#Bertopic selected\n",
    "Randomized_search_LR_Bert_selected = RandomizedSearchCV(LR, parameters_LR, verbose=1, scoring=\"f1\", n_jobs = 2)\n",
    "Randomized_search_LR_Bert_selected.fit(Bert_X_selected_train, Bert_y_selected_train)\n",
    "print(\" Results from Randomized Search \" )\n",
    "print(\"\\\\n The best estimator across ALL searched params:\\\\n\",Randomized_search_LR_Bert_selected.best_estimator_)\n",
    "print(\"\\\\n The best score across ALL searched params:\\\\n\",Randomized_search_LR_Bert_selected.best_score_)\n",
    "print(\"\\\\n The best parameters across ALL searched params:\\\\n\",Randomized_search_LR_Bert_selected.best_params_)"
   ]
  },
  {
   "cell_type": "code",
   "execution_count": 27,
   "metadata": {},
   "outputs": [
    {
     "data": {
      "text/plain": [
       "0.42845594179466445"
      ]
     },
     "execution_count": 27,
     "metadata": {},
     "output_type": "execute_result"
    }
   ],
   "source": [
    "#Bertopic selected final\n",
    "LR_final_Bert_selected = Randomized_search_LR_Bert_selected.best_estimator_\n",
    "LR_final_Bert_selected.fit(Bert_X_selected_train, Bert_y_selected_train)\n",
    "Bert_y_selected_pred_LR = LR_final_Bert_selected.predict(Bert_X_selected_test)\n",
    "#test score\n",
    "f1_score(Bert_y_selected_test, Bert_y_selected_pred_LR)"
   ]
  },
  {
   "attachments": {},
   "cell_type": "markdown",
   "metadata": {},
   "source": [
    "Linear Support vector Machine"
   ]
  },
  {
   "cell_type": "code",
   "execution_count": 28,
   "metadata": {},
   "outputs": [],
   "source": [
    "SVM = LinearSVC(random_state=101)"
   ]
  },
  {
   "cell_type": "code",
   "execution_count": 29,
   "metadata": {},
   "outputs": [],
   "source": [
    "parameters_SVM = {\"C\": np.logspace(-4, 4, 20), \"class_weight\":[None, \"balanced\"], \"loss\": [\"hinge\", \"squared_hinge\"]} "
   ]
  },
  {
   "cell_type": "code",
   "execution_count": 30,
   "metadata": {},
   "outputs": [
    {
     "name": "stdout",
     "output_type": "stream",
     "text": [
      "Fitting 5 folds for each of 10 candidates, totalling 50 fits\n",
      " Results from Randomized Search \n",
      "\\n The best estimator across ALL searched params:\\n LinearSVC(C=0.03359818286283781, class_weight='balanced', loss='hinge',\n",
      "          random_state=101)\n",
      "\\n The best score across ALL searched params:\\n 0.6928925266833614\n",
      "\\n The best parameters across ALL searched params:\\n {'loss': 'hinge', 'class_weight': 'balanced', 'C': 0.03359818286283781}\n"
     ]
    }
   ],
   "source": [
    "#BOW\n",
    "Randomized_search_SVM_BOW = RandomizedSearchCV(SVM, parameters_SVM, verbose=1, scoring=\"f1\", n_jobs = 2)\n",
    "Randomized_search_SVM_BOW.fit(bow_X_train, bow_y_train)\n",
    "print(\" Results from Randomized Search \" )\n",
    "print(\"\\\\n The best estimator across ALL searched params:\\\\n\",Randomized_search_SVM_BOW.best_estimator_)\n",
    "print(\"\\\\n The best score across ALL searched params:\\\\n\",Randomized_search_SVM_BOW.best_score_)\n",
    "print(\"\\\\n The best parameters across ALL searched params:\\\\n\",Randomized_search_SVM_BOW.best_params_)"
   ]
  },
  {
   "cell_type": "code",
   "execution_count": 31,
   "metadata": {},
   "outputs": [
    {
     "data": {
      "text/plain": [
       "0.7030201342281879"
      ]
     },
     "execution_count": 31,
     "metadata": {},
     "output_type": "execute_result"
    }
   ],
   "source": [
    "#BOW final\n",
    "SVM_final_BOW = Randomized_search_SVM_BOW.best_estimator_\n",
    "SVM_final_BOW.fit(bow_X_train, bow_y_train)\n",
    "bow_y_pred_SVM = SVM_final_BOW.predict(bow_X_test)\n",
    "#test score\n",
    "f1_score(bow_y_test, bow_y_pred_SVM)"
   ]
  },
  {
   "cell_type": "code",
   "execution_count": 32,
   "metadata": {},
   "outputs": [
    {
     "name": "stdout",
     "output_type": "stream",
     "text": [
      "Fitting 5 folds for each of 10 candidates, totalling 50 fits\n",
      " Results from Randomized Search \n",
      "\\n The best estimator across ALL searched params:\\n LinearSVC(C=0.615848211066026, class_weight='balanced', random_state=101)\n",
      "\\n The best score across ALL searched params:\\n 0.6352700929235662\n",
      "\\n The best parameters across ALL searched params:\\n {'loss': 'squared_hinge', 'class_weight': 'balanced', 'C': 0.615848211066026}\n"
     ]
    }
   ],
   "source": [
    "#STM\n",
    "Randomized_search_SVM_STM = RandomizedSearchCV(SVM, parameters_SVM, verbose=1, scoring=\"f1\", n_jobs = 2)\n",
    "Randomized_search_SVM_STM.fit(STM_X_train, STM_y_train)\n",
    "print(\" Results from Randomized Search \" )\n",
    "print(\"\\\\n The best estimator across ALL searched params:\\\\n\",Randomized_search_SVM_STM.best_estimator_)\n",
    "print(\"\\\\n The best score across ALL searched params:\\\\n\",Randomized_search_SVM_STM.best_score_)\n",
    "print(\"\\\\n The best parameters across ALL searched params:\\\\n\",Randomized_search_SVM_STM.best_params_)"
   ]
  },
  {
   "cell_type": "code",
   "execution_count": 33,
   "metadata": {},
   "outputs": [
    {
     "data": {
      "text/plain": [
       "0.6394913986537024"
      ]
     },
     "execution_count": 33,
     "metadata": {},
     "output_type": "execute_result"
    }
   ],
   "source": [
    "#STM final\n",
    "SVM_final_STM = Randomized_search_SVM_STM.best_estimator_\n",
    "SVM_final_STM.fit(STM_X_train, STM_y_train)\n",
    "STM_y_pred_SVM = SVM_final_STM.predict(STM_X_test)\n",
    "#test score\n",
    "f1_score(STM_y_test, STM_y_pred_SVM)"
   ]
  },
  {
   "cell_type": "code",
   "execution_count": 67,
   "metadata": {},
   "outputs": [],
   "source": [
    "LSVM3 = LinearSVC(C=0.615848211066026, class_weight='balanced', random_state=101)"
   ]
  },
  {
   "cell_type": "code",
   "execution_count": 75,
   "metadata": {},
   "outputs": [
    {
     "name": "stdout",
     "output_type": "stream",
     "text": [
      "0.6394913986537024\n",
      "              precision    recall  f1-score   support\n",
      "\n",
      "           0       0.94      0.83      0.88      4422\n",
      "           1       0.54      0.79      0.64      1084\n",
      "\n",
      "    accuracy                           0.82      5506\n",
      "   macro avg       0.74      0.81      0.76      5506\n",
      "weighted avg       0.86      0.82      0.84      5506\n",
      "\n"
     ]
    }
   ],
   "source": [
    "LSVM3.fit(STM_X_train, STM_y_train)\n",
    "STM_y_pred_SVM_cm = LSVM3.predict(STM_X_test)\n",
    "#test score\n",
    "print(f1_score(STM_y_test, STM_y_pred_SVM_cm))\n",
    "print(classification_report(STM_y_test, STM_y_pred_SVM_cm))\n",
    "cm2 = confusion_matrix(STM_y_test, STM_y_pred_SVM_cm, labels=[1,0], normalize=\"all\")"
   ]
  },
  {
   "cell_type": "code",
   "execution_count": 76,
   "metadata": {},
   "outputs": [
    {
     "data": {
      "text/plain": [
       "<sklearn.metrics._plot.confusion_matrix.ConfusionMatrixDisplay at 0x20878e3e460>"
      ]
     },
     "execution_count": 76,
     "metadata": {},
     "output_type": "execute_result"
    },
    {
     "data": {
      "image/png": "[encoded data removed]",
      "text/plain": [
       "<Figure size 640x480 with 2 Axes>"
      ]
     },
     "metadata": {},
     "output_type": "display_data"
    }
   ],
   "source": [
    "disp_LSVM3 = ConfusionMatrixDisplay(confusion_matrix=cm2, display_labels=[\"Negative sentiment\", \"Positive sentiment\"])\n",
    "disp_LSVM3.plot()"
   ]
  },
  {
   "cell_type": "code",
   "execution_count": 34,
   "metadata": {},
   "outputs": [
    {
     "name": "stdout",
     "output_type": "stream",
     "text": [
      "Fitting 5 folds for each of 10 candidates, totalling 50 fits\n",
      " Results from Randomized Search \n",
      "\\n The best estimator across ALL searched params:\\n LinearSVC(C=206.913808111479, class_weight='balanced', loss='hinge',\n",
      "          random_state=101)\n",
      "\\n The best score across ALL searched params:\\n 0.6354052662562726\n",
      "\\n The best parameters across ALL searched params:\\n {'loss': 'hinge', 'class_weight': 'balanced', 'C': 206.913808111479}\n"
     ]
    },
    {
     "name": "stderr",
     "output_type": "stream",
     "text": [
      "c:\\Users\\victo\\anaconda3\\lib\\site-packages\\sklearn\\svm\\_base.py:1206: ConvergenceWarning: Liblinear failed to converge, increase the number of iterations.\n",
      "  warnings.warn(\n"
     ]
    }
   ],
   "source": [
    "#STM selected\n",
    "Randomized_search_SVM_STM_selected = RandomizedSearchCV(SVM, parameters_SVM, verbose=1, scoring=\"f1\", n_jobs = 2)\n",
    "Randomized_search_SVM_STM_selected.fit(STM_X_selected_train, STM_y_selected_train)\n",
    "print(\" Results from Randomized Search \" )\n",
    "print(\"\\\\n The best estimator across ALL searched params:\\\\n\",Randomized_search_SVM_STM_selected.best_estimator_)\n",
    "print(\"\\\\n The best score across ALL searched params:\\\\n\",Randomized_search_SVM_STM_selected.best_score_)\n",
    "print(\"\\\\n The best parameters across ALL searched params:\\\\n\",Randomized_search_SVM_STM_selected.best_params_)"
   ]
  },
  {
   "cell_type": "code",
   "execution_count": 35,
   "metadata": {},
   "outputs": [
    {
     "name": "stderr",
     "output_type": "stream",
     "text": [
      "c:\\Users\\victo\\anaconda3\\lib\\site-packages\\sklearn\\svm\\_base.py:1206: ConvergenceWarning: Liblinear failed to converge, increase the number of iterations.\n",
      "  warnings.warn(\n"
     ]
    },
    {
     "data": {
      "text/plain": [
       "0.6444859813084112"
      ]
     },
     "execution_count": 35,
     "metadata": {},
     "output_type": "execute_result"
    }
   ],
   "source": [
    "#STM selected final\n",
    "SVM_final_STM_selected = Randomized_search_SVM_STM_selected.best_estimator_\n",
    "SVM_final_STM_selected.fit(STM_X_selected_train, STM_y_selected_train)\n",
    "STM_y_selected_pred_SVM = SVM_final_STM_selected.predict(STM_X_selected_test)\n",
    "#test score\n",
    "f1_score(STM_y_selected_test, STM_y_selected_pred_SVM)"
   ]
  },
  {
   "cell_type": "code",
   "execution_count": 36,
   "metadata": {},
   "outputs": [
    {
     "name": "stdout",
     "output_type": "stream",
     "text": [
      "Fitting 5 folds for each of 10 candidates, totalling 50 fits\n",
      " Results from Randomized Search \n",
      "\\n The best estimator across ALL searched params:\\n LinearSVC(C=0.615848211066026, class_weight='balanced', random_state=101)\n",
      "\\n The best score across ALL searched params:\\n 0.41992654094857007\n",
      "\\n The best parameters across ALL searched params:\\n {'loss': 'squared_hinge', 'class_weight': 'balanced', 'C': 0.615848211066026}\n"
     ]
    }
   ],
   "source": [
    "#BERTopic\n",
    "Randomized_search_SVM_Bert = RandomizedSearchCV(SVM, parameters_SVM, verbose=1, scoring=\"f1\", n_jobs = 2)\n",
    "Randomized_search_SVM_Bert.fit(Bert_X_train, Bert_y_train)\n",
    "print(\" Results from Randomized Search \" )\n",
    "print(\"\\\\n The best estimator across ALL searched params:\\\\n\",Randomized_search_SVM_Bert.best_estimator_)\n",
    "print(\"\\\\n The best score across ALL searched params:\\\\n\",Randomized_search_SVM_Bert.best_score_)\n",
    "print(\"\\\\n The best parameters across ALL searched params:\\\\n\",Randomized_search_SVM_Bert.best_params_)"
   ]
  },
  {
   "cell_type": "code",
   "execution_count": 37,
   "metadata": {},
   "outputs": [
    {
     "data": {
      "text/plain": [
       "0.4271523178807948"
      ]
     },
     "execution_count": 37,
     "metadata": {},
     "output_type": "execute_result"
    }
   ],
   "source": [
    "#BERT final 0.47, 0.42 reduction\n",
    "SVM_final_Bert = Randomized_search_SVM_Bert.best_estimator_\n",
    "SVM_final_Bert.fit(Bert_X_train, Bert_y_train)\n",
    "Bert_y_pred_SVM = SVM_final_Bert.predict(Bert_X_test)\n",
    "#test score\n",
    "f1_score(Bert_y_test, Bert_y_pred_SVM)"
   ]
  },
  {
   "cell_type": "code",
   "execution_count": 70,
   "metadata": {},
   "outputs": [],
   "source": [
    "LSVM2 = LinearSVC(C=0.615848211066026, class_weight='balanced', random_state=101)"
   ]
  },
  {
   "cell_type": "code",
   "execution_count": 73,
   "metadata": {},
   "outputs": [
    {
     "name": "stdout",
     "output_type": "stream",
     "text": [
      "0.4271523178807948\n"
     ]
    }
   ],
   "source": [
    "LSVM2.fit(Bert_X_train, Bert_y_train)\n",
    "Bert_y_pred_SVM_cm = LSVM2.predict(Bert_X_test)\n",
    "#test score\n",
    "print(f1_score(Bert_y_test, Bert_y_pred_SVM_cm))\n",
    "cm = confusion_matrix(Bert_y_test, Bert_y_pred_SVM_cm)\n",
    "cm_norm = confusion_matrix(Bert_y_test, Bert_y_pred_SVM_cm, labels=[1,0], normalize=\"all\")"
   ]
  },
  {
   "cell_type": "code",
   "execution_count": 74,
   "metadata": {},
   "outputs": [
    {
     "data": {
      "text/plain": [
       "<sklearn.metrics._plot.confusion_matrix.ConfusionMatrixDisplay at 0x208784c18e0>"
      ]
     },
     "execution_count": 74,
     "metadata": {},
     "output_type": "execute_result"
    },
    {
     "data": {
      "image/png": "[encoded data removed]",
      "text/plain": [
       "<Figure size 640x480 with 2 Axes>"
      ]
     },
     "metadata": {},
     "output_type": "display_data"
    }
   ],
   "source": [
    "disp_LSVM = ConfusionMatrixDisplay(confusion_matrix=cm_norm, display_labels=[\"Negative sentiment\", \"Positive sentiment\"])\n",
    "disp_LSVM.plot()"
   ]
  },
  {
   "cell_type": "code",
   "execution_count": 38,
   "metadata": {},
   "outputs": [
    {
     "name": "stdout",
     "output_type": "stream",
     "text": [
      "Fitting 5 folds for each of 10 candidates, totalling 50 fits\n",
      " Results from Randomized Search \n",
      "\\n The best estimator across ALL searched params:\\n LinearSVC(C=0.615848211066026, class_weight='balanced', random_state=101)\n",
      "\\n The best score across ALL searched params:\\n 0.4045076545040772\n",
      "\\n The best parameters across ALL searched params:\\n {'loss': 'squared_hinge', 'class_weight': 'balanced', 'C': 0.615848211066026}\n"
     ]
    }
   ],
   "source": [
    "#Bertopic selected\n",
    "Randomized_search_SVM_Bert_selected = RandomizedSearchCV(SVM, parameters_SVM, verbose=1, scoring=\"f1\", n_jobs = 2)\n",
    "Randomized_search_SVM_Bert_selected.fit(Bert_X_selected_train, Bert_y_selected_train)\n",
    "print(\" Results from Randomized Search \" )\n",
    "print(\"\\\\n The best estimator across ALL searched params:\\\\n\",Randomized_search_SVM_Bert_selected.best_estimator_)\n",
    "print(\"\\\\n The best score across ALL searched params:\\\\n\",Randomized_search_SVM_Bert_selected.best_score_)\n",
    "print(\"\\\\n The best parameters across ALL searched params:\\\\n\",Randomized_search_SVM_Bert_selected.best_params_)"
   ]
  },
  {
   "cell_type": "code",
   "execution_count": 39,
   "metadata": {},
   "outputs": [
    {
     "data": {
      "text/plain": [
       "0.4146341463414634"
      ]
     },
     "execution_count": 39,
     "metadata": {},
     "output_type": "execute_result"
    }
   ],
   "source": [
    "#Bertopic selected final\n",
    "SVM_final_Bert_selected = Randomized_search_SVM_Bert_selected.best_estimator_\n",
    "SVM_final_Bert_selected.fit(Bert_X_selected_train, Bert_y_selected_train)\n",
    "Bert_y_selected_pred_SVM = SVM_final_Bert_selected.predict(Bert_X_selected_test)\n",
    "#test score\n",
    "f1_score(Bert_y_selected_test, Bert_y_selected_pred_SVM)"
   ]
  },
  {
   "attachments": {},
   "cell_type": "markdown",
   "metadata": {},
   "source": [
    "XGBClassifier"
   ]
  },
  {
   "cell_type": "code",
   "execution_count": 40,
   "metadata": {},
   "outputs": [],
   "source": [
    "XGB = XGBClassifier(verbosity = 1, seed = 101, use_label_encoder=False)"
   ]
  },
  {
   "cell_type": "code",
   "execution_count": 41,
   "metadata": {},
   "outputs": [],
   "source": [
    "\n",
    "parameters_XGB = {\"colsample_bytree:\": np.arange(0.5,1,0.1) ,\"min_child_weight\": np.arange(1,10,1), \"eta\": np.arange(0.01,0.3,0.05), \"gamma\": np.arange(0,5,1), \"max_depth\": np.arange(3,10,1), \"subsample\": np.arange(0.5,1,0.1), \"scale_pos_weight\": [1, 4.045069258], \"objective\": [\"binary:logistic\", \"binary:logitraw\", \"binary:hinge\"]}"
   ]
  },
  {
   "cell_type": "code",
   "execution_count": 42,
   "metadata": {},
   "outputs": [
    {
     "name": "stdout",
     "output_type": "stream",
     "text": [
      "Fitting 5 folds for each of 10 candidates, totalling 50 fits\n",
      "[12:31:30] WARNING: C:\\Windows\\Temp\\abs_557yfx631l\\croots\\recipe\\xgboost-split_1659548953302\\work\\src\\learner.cc:576: \n",
      "Parameters: { \"colsample_bytree:\" } might not be used.\n",
      "\n",
      "  This could be a false alarm, with some parameters getting used by language bindings but\n",
      "  then being mistakenly passed down to XGBoost core, or some parameter actually being used\n",
      "  but getting flagged wrongly here. Please open an issue if you find any such cases.\n",
      "\n",
      "\n",
      "[12:31:31] WARNING: C:\\Windows\\Temp\\abs_557yfx631l\\croots\\recipe\\xgboost-split_1659548953302\\work\\src\\learner.cc:1115: Starting in XGBoost 1.3.0, the default evaluation metric used with the objective 'binary:logistic' was changed from 'error' to 'logloss'. Explicitly set eval_metric if you'd like to restore the old behavior.\n",
      " Results from Randomized Search \n",
      "\\n The best estimator across ALL searched params:\\n XGBClassifier(base_score=0.5, booster='gbtree', colsample_bylevel=1,\n",
      "              colsample_bynode=1, colsample_bytree=1,\n",
      "              colsample_bytree:=0.8999999999999999, enable_categorical=False,\n",
      "              eta=0.21000000000000002, gamma=1, gpu_id=-1, importance_type=None,\n",
      "              interaction_constraints='', learning_rate=0.209999993,\n",
      "              max_delta_step=0, max_depth=9, min_child_weight=9, missing=nan,\n",
      "              monotone_constraints='()', n_estimators=100, n_jobs=12,\n",
      "              num_parallel_tree=1, predictor='auto', random_state=101,\n",
      "              reg_alpha=0, reg_lambda=1, scale_pos_weight=4.045069258, seed=101,\n",
      "              subsample=0.7999999999999999, tree_method='exact',\n",
      "              use_label_encoder=False, ...)\n",
      "\\n The best score across ALL searched params:\\n 0.6497010438331758\n",
      "\\n The best parameters across ALL searched params:\\n {'subsample': 0.7999999999999999, 'scale_pos_weight': 4.045069258, 'objective': 'binary:logistic', 'min_child_weight': 9, 'max_depth': 9, 'gamma': 1, 'eta': 0.21000000000000002, 'colsample_bytree:': 0.8999999999999999}\n"
     ]
    }
   ],
   "source": [
    "#BOW\n",
    "Randomized_search_XGB = RandomizedSearchCV(XGB, parameters_XGB, verbose=1, scoring=\"f1\", n_jobs = 2)\n",
    "Randomized_search_XGB.fit(bow_X_train, bow_y_train)\n",
    "print(\" Results from Randomized Search \" )\n",
    "print(\"\\\\n The best estimator across ALL searched params:\\\\n\",Randomized_search_XGB.best_estimator_)\n",
    "print(\"\\\\n The best score across ALL searched params:\\\\n\",Randomized_search_XGB.best_score_)\n",
    "print(\"\\\\n The best parameters across ALL searched params:\\\\n\",Randomized_search_XGB.best_params_)"
   ]
  },
  {
   "cell_type": "code",
   "execution_count": 43,
   "metadata": {},
   "outputs": [
    {
     "name": "stdout",
     "output_type": "stream",
     "text": [
      "[12:31:48] WARNING: C:\\Windows\\Temp\\abs_557yfx631l\\croots\\recipe\\xgboost-split_1659548953302\\work\\src\\learner.cc:576: \n",
      "Parameters: { \"colsample_bytree:\" } might not be used.\n",
      "\n",
      "  This could be a false alarm, with some parameters getting used by language bindings but\n",
      "  then being mistakenly passed down to XGBoost core, or some parameter actually being used\n",
      "  but getting flagged wrongly here. Please open an issue if you find any such cases.\n",
      "\n",
      "\n",
      "[12:31:48] WARNING: C:\\Windows\\Temp\\abs_557yfx631l\\croots\\recipe\\xgboost-split_1659548953302\\work\\src\\learner.cc:1115: Starting in XGBoost 1.3.0, the default evaluation metric used with the objective 'binary:logistic' was changed from 'error' to 'logloss'. Explicitly set eval_metric if you'd like to restore the old behavior.\n"
     ]
    },
    {
     "data": {
      "text/plain": [
       "0.6516853932584269"
      ]
     },
     "execution_count": 43,
     "metadata": {},
     "output_type": "execute_result"
    }
   ],
   "source": [
    "#BOW final\n",
    "XGB_final_BOW = Randomized_search_XGB.best_estimator_\n",
    "XGB_final_BOW.fit(bow_X_train, bow_y_train)\n",
    "bow_y_pred_XGB = XGB_final_BOW.predict(bow_X_test)\n",
    "#test score\n",
    "f1_score(bow_y_test, bow_y_pred_XGB)"
   ]
  },
  {
   "cell_type": "code",
   "execution_count": 44,
   "metadata": {},
   "outputs": [
    {
     "name": "stdout",
     "output_type": "stream",
     "text": [
      "Fitting 5 folds for each of 10 candidates, totalling 50 fits\n",
      "[12:40:27] WARNING: C:\\Windows\\Temp\\abs_557yfx631l\\croots\\recipe\\xgboost-split_1659548953302\\work\\src\\learner.cc:576: \n",
      "Parameters: { \"colsample_bytree:\" } might not be used.\n",
      "\n",
      "  This could be a false alarm, with some parameters getting used by language bindings but\n",
      "  then being mistakenly passed down to XGBoost core, or some parameter actually being used\n",
      "  but getting flagged wrongly here. Please open an issue if you find any such cases.\n",
      "\n",
      "\n",
      "[12:40:28] WARNING: C:\\Windows\\Temp\\abs_557yfx631l\\croots\\recipe\\xgboost-split_1659548953302\\work\\src\\learner.cc:1115: Starting in XGBoost 1.3.0, the default evaluation metric used with the objective 'binary:logistic' was changed from 'error' to 'logloss'. Explicitly set eval_metric if you'd like to restore the old behavior.\n",
      " Results from Randomized Search \n",
      "\\n The best estimator across ALL searched params:\\n XGBClassifier(base_score=0.5, booster='gbtree', colsample_bylevel=1,\n",
      "              colsample_bynode=1, colsample_bytree=1, colsample_bytree:=0.6,\n",
      "              enable_categorical=False, eta=0.21000000000000002, gamma=2,\n",
      "              gpu_id=-1, importance_type=None, interaction_constraints='',\n",
      "              learning_rate=0.209999993, max_delta_step=0, max_depth=6,\n",
      "              min_child_weight=6, missing=nan, monotone_constraints='()',\n",
      "              n_estimators=100, n_jobs=12, num_parallel_tree=1,\n",
      "              predictor='auto', random_state=101, reg_alpha=0, reg_lambda=1,\n",
      "              scale_pos_weight=4.045069258, seed=101,\n",
      "              subsample=0.8999999999999999, tree_method='exact',\n",
      "              use_label_encoder=False, ...)\n",
      "\\n The best score across ALL searched params:\\n 0.6528368792586672\n",
      "\\n The best parameters across ALL searched params:\\n {'subsample': 0.8999999999999999, 'scale_pos_weight': 4.045069258, 'objective': 'binary:logistic', 'min_child_weight': 6, 'max_depth': 6, 'gamma': 2, 'eta': 0.21000000000000002, 'colsample_bytree:': 0.6}\n"
     ]
    }
   ],
   "source": [
    "#STM\n",
    "Randomized_search_XGB_STM = RandomizedSearchCV(XGB, parameters_XGB, verbose=1, scoring=\"f1\", n_jobs = 2)\n",
    "Randomized_search_XGB_STM.fit(STM_X_train, STM_y_train)\n",
    "print(\" Results from Randomized Search \" )\n",
    "print(\"\\\\n The best estimator across ALL searched params:\\\\n\",Randomized_search_XGB_STM.best_estimator_)\n",
    "print(\"\\\\n The best score across ALL searched params:\\\\n\",Randomized_search_XGB_STM.best_score_)\n",
    "print(\"\\\\n The best parameters across ALL searched params:\\\\n\",Randomized_search_XGB_STM.best_params_)"
   ]
  },
  {
   "cell_type": "code",
   "execution_count": 45,
   "metadata": {},
   "outputs": [
    {
     "name": "stdout",
     "output_type": "stream",
     "text": [
      "[12:40:44] WARNING: C:\\Windows\\Temp\\abs_557yfx631l\\croots\\recipe\\xgboost-split_1659548953302\\work\\src\\learner.cc:576: \n",
      "Parameters: { \"colsample_bytree:\" } might not be used.\n",
      "\n",
      "  This could be a false alarm, with some parameters getting used by language bindings but\n",
      "  then being mistakenly passed down to XGBoost core, or some parameter actually being used\n",
      "  but getting flagged wrongly here. Please open an issue if you find any such cases.\n",
      "\n",
      "\n",
      "[12:40:45] WARNING: C:\\Windows\\Temp\\abs_557yfx631l\\croots\\recipe\\xgboost-split_1659548953302\\work\\src\\learner.cc:1115: Starting in XGBoost 1.3.0, the default evaluation metric used with the objective 'binary:logistic' was changed from 'error' to 'logloss'. Explicitly set eval_metric if you'd like to restore the old behavior.\n"
     ]
    },
    {
     "data": {
      "text/plain": [
       "0.6522476675148431"
      ]
     },
     "execution_count": 45,
     "metadata": {},
     "output_type": "execute_result"
    }
   ],
   "source": [
    "#STM final\n",
    "XGB_final_STM = Randomized_search_XGB_STM.best_estimator_\n",
    "XGB_final_STM.fit(STM_X_train, STM_y_train)\n",
    "XGB_y_pred_STM = XGB_final_STM.predict(STM_X_test)\n",
    "#test score\n",
    "f1_score(STM_y_test, XGB_y_pred_STM)"
   ]
  },
  {
   "cell_type": "code",
   "execution_count": 46,
   "metadata": {},
   "outputs": [
    {
     "name": "stdout",
     "output_type": "stream",
     "text": [
      "Fitting 5 folds for each of 10 candidates, totalling 50 fits\n"
     ]
    },
    {
     "name": "stderr",
     "output_type": "stream",
     "text": [
      "c:\\Users\\victo\\anaconda3\\lib\\site-packages\\xgboost\\data.py:250: FutureWarning: pandas.Int64Index is deprecated and will be removed from pandas in a future version. Use pandas.Index with the appropriate dtype instead.\n",
      "  elif isinstance(data.columns, (pd.Int64Index, pd.RangeIndex)):\n"
     ]
    },
    {
     "name": "stdout",
     "output_type": "stream",
     "text": [
      "[12:47:39] WARNING: C:\\Windows\\Temp\\abs_557yfx631l\\croots\\recipe\\xgboost-split_1659548953302\\work\\src\\learner.cc:576: \n",
      "Parameters: { \"colsample_bytree:\" } might not be used.\n",
      "\n",
      "  This could be a false alarm, with some parameters getting used by language bindings but\n",
      "  then being mistakenly passed down to XGBoost core, or some parameter actually being used\n",
      "  but getting flagged wrongly here. Please open an issue if you find any such cases.\n",
      "\n",
      "\n",
      "[12:47:39] WARNING: C:\\Windows\\Temp\\abs_557yfx631l\\croots\\recipe\\xgboost-split_1659548953302\\work\\src\\learner.cc:1115: Starting in XGBoost 1.4.0, the default evaluation metric used with the objective 'binary:logitraw' was changed from 'auc' to 'logloss'. Explicitly set eval_metric if you'd like to restore the old behavior.\n",
      " Results from Randomized Search \n",
      "\\n The best estimator across ALL searched params:\\n XGBClassifier(base_score=0.5, booster='gbtree', colsample_bylevel=1,\n",
      "              colsample_bynode=1, colsample_bytree=1,\n",
      "              colsample_bytree:=0.8999999999999999, enable_categorical=False,\n",
      "              eta=0.060000000000000005, gamma=3, gpu_id=-1,\n",
      "              importance_type=None, interaction_constraints='',\n",
      "              learning_rate=0.0599999987, max_delta_step=0, max_depth=4,\n",
      "              min_child_weight=4, missing=nan, monotone_constraints='()',\n",
      "              n_estimators=100, n_jobs=12, num_parallel_tree=1,\n",
      "              objective='binary:logitraw', predictor='auto', random_state=101,\n",
      "              reg_alpha=0, reg_lambda=1, scale_pos_weight=4.045069258, seed=101,\n",
      "              subsample=0.5, tree_method='exact', ...)\n",
      "\\n The best score across ALL searched params:\\n 0.6486305624129585\n",
      "\\n The best parameters across ALL searched params:\\n {'subsample': 0.5, 'scale_pos_weight': 4.045069258, 'objective': 'binary:logitraw', 'min_child_weight': 4, 'max_depth': 4, 'gamma': 3, 'eta': 0.060000000000000005, 'colsample_bytree:': 0.8999999999999999}\n"
     ]
    }
   ],
   "source": [
    "#STM selected\n",
    "Randomized_search_XGB_STM_selected = RandomizedSearchCV(XGB, parameters_XGB, verbose=1, scoring=\"f1\", n_jobs = 2)\n",
    "Randomized_search_XGB_STM_selected.fit(STM_X_selected_train, STM_y_selected_train)\n",
    "print(\" Results from Randomized Search \" )\n",
    "print(\"\\\\n The best estimator across ALL searched params:\\\\n\",Randomized_search_XGB_STM_selected.best_estimator_)\n",
    "print(\"\\\\n The best score across ALL searched params:\\\\n\",Randomized_search_XGB_STM_selected.best_score_)\n",
    "print(\"\\\\n The best parameters across ALL searched params:\\\\n\",Randomized_search_XGB_STM_selected.best_params_)"
   ]
  },
  {
   "cell_type": "code",
   "execution_count": 47,
   "metadata": {},
   "outputs": [
    {
     "name": "stdout",
     "output_type": "stream",
     "text": [
      "[12:47:52] WARNING: C:\\Windows\\Temp\\abs_557yfx631l\\croots\\recipe\\xgboost-split_1659548953302\\work\\src\\learner.cc:576: \n",
      "Parameters: { \"colsample_bytree:\" } might not be used.\n",
      "\n",
      "  This could be a false alarm, with some parameters getting used by language bindings but\n",
      "  then being mistakenly passed down to XGBoost core, or some parameter actually being used\n",
      "  but getting flagged wrongly here. Please open an issue if you find any such cases.\n",
      "\n",
      "\n",
      "[12:47:52] WARNING: C:\\Windows\\Temp\\abs_557yfx631l\\croots\\recipe\\xgboost-split_1659548953302\\work\\src\\learner.cc:1115: Starting in XGBoost 1.4.0, the default evaluation metric used with the objective 'binary:logitraw' was changed from 'auc' to 'logloss'. Explicitly set eval_metric if you'd like to restore the old behavior.\n"
     ]
    },
    {
     "data": {
      "text/plain": [
       "0.6528013582342953"
      ]
     },
     "execution_count": 47,
     "metadata": {},
     "output_type": "execute_result"
    }
   ],
   "source": [
    "#STM selected final\n",
    "XGB_final_STM_selected = Randomized_search_XGB_STM_selected.best_estimator_\n",
    "XGB_final_STM_selected.fit(STM_X_selected_train, STM_y_selected_train)\n",
    "STM_y_selected_pred_XGB = XGB_final_STM_selected.predict(STM_X_selected_test)\n",
    "#test score\n",
    "f1_score(STM_y_selected_test, STM_y_selected_pred_XGB)"
   ]
  },
  {
   "cell_type": "code",
   "execution_count": 48,
   "metadata": {},
   "outputs": [
    {
     "name": "stdout",
     "output_type": "stream",
     "text": [
      "Fitting 5 folds for each of 10 candidates, totalling 50 fits\n",
      "[12:52:45] WARNING: C:\\Windows\\Temp\\abs_557yfx631l\\croots\\recipe\\xgboost-split_1659548953302\\work\\src\\learner.cc:576: \n",
      "Parameters: { \"colsample_bytree:\" } might not be used.\n",
      "\n",
      "  This could be a false alarm, with some parameters getting used by language bindings but\n",
      "  then being mistakenly passed down to XGBoost core, or some parameter actually being used\n",
      "  but getting flagged wrongly here. Please open an issue if you find any such cases.\n",
      "\n",
      "\n",
      "[12:52:46] WARNING: C:\\Windows\\Temp\\abs_557yfx631l\\croots\\recipe\\xgboost-split_1659548953302\\work\\src\\learner.cc:1115: Starting in XGBoost 1.4.0, the default evaluation metric used with the objective 'binary:logitraw' was changed from 'auc' to 'logloss'. Explicitly set eval_metric if you'd like to restore the old behavior.\n",
      " Results from Randomized Search \n",
      "\\n The best estimator across ALL searched params:\\n XGBClassifier(base_score=0.5, booster='gbtree', colsample_bylevel=1,\n",
      "              colsample_bynode=1, colsample_bytree=1, colsample_bytree:=0.6,\n",
      "              enable_categorical=False, eta=0.11, gamma=1, gpu_id=-1,\n",
      "              importance_type=None, interaction_constraints='',\n",
      "              learning_rate=0.109999999, max_delta_step=0, max_depth=7,\n",
      "              min_child_weight=8, missing=nan, monotone_constraints='()',\n",
      "              n_estimators=100, n_jobs=12, num_parallel_tree=1,\n",
      "              objective='binary:logitraw', predictor='auto', random_state=101,\n",
      "              reg_alpha=0, reg_lambda=1, scale_pos_weight=4.045069258, seed=101,\n",
      "              subsample=0.7999999999999999, tree_method='exact', ...)\n",
      "\\n The best score across ALL searched params:\\n 0.41412158416101114\n",
      "\\n The best parameters across ALL searched params:\\n {'subsample': 0.7999999999999999, 'scale_pos_weight': 4.045069258, 'objective': 'binary:logitraw', 'min_child_weight': 8, 'max_depth': 7, 'gamma': 1, 'eta': 0.11, 'colsample_bytree:': 0.6}\n"
     ]
    }
   ],
   "source": [
    "#BERTopic\n",
    "Randomized_search_XGB_Bert = RandomizedSearchCV(XGB, parameters_XGB, verbose=2, scoring=\"f1\", n_jobs = 2)\n",
    "Randomized_search_XGB_Bert.fit(Bert_X_train, Bert_y_train)\n",
    "print(\" Results from Randomized Search \" )\n",
    "print(\"\\\\n The best estimator across ALL searched params:\\\\n\",Randomized_search_XGB_Bert.best_estimator_)\n",
    "print(\"\\\\n The best score across ALL searched params:\\\\n\",Randomized_search_XGB_Bert.best_score_)\n",
    "print(\"\\\\n The best parameters across ALL searched params:\\\\n\",Randomized_search_XGB_Bert.best_params_)"
   ]
  },
  {
   "cell_type": "code",
   "execution_count": 49,
   "metadata": {},
   "outputs": [
    {
     "name": "stdout",
     "output_type": "stream",
     "text": [
      "[12:53:01] WARNING: C:\\Windows\\Temp\\abs_557yfx631l\\croots\\recipe\\xgboost-split_1659548953302\\work\\src\\learner.cc:576: \n",
      "Parameters: { \"colsample_bytree:\" } might not be used.\n",
      "\n",
      "  This could be a false alarm, with some parameters getting used by language bindings but\n",
      "  then being mistakenly passed down to XGBoost core, or some parameter actually being used\n",
      "  but getting flagged wrongly here. Please open an issue if you find any such cases.\n",
      "\n",
      "\n",
      "[12:53:01] WARNING: C:\\Windows\\Temp\\abs_557yfx631l\\croots\\recipe\\xgboost-split_1659548953302\\work\\src\\learner.cc:1115: Starting in XGBoost 1.4.0, the default evaluation metric used with the objective 'binary:logitraw' was changed from 'auc' to 'logloss'. Explicitly set eval_metric if you'd like to restore the old behavior.\n"
     ]
    },
    {
     "data": {
      "text/plain": [
       "0.42906976744186054"
      ]
     },
     "execution_count": 49,
     "metadata": {},
     "output_type": "execute_result"
    }
   ],
   "source": [
    "#BERT final\n",
    "XGB_final_Bert = Randomized_search_XGB_Bert.best_estimator_\n",
    "XGB_final_Bert.fit(Bert_X_train, Bert_y_train)\n",
    "Bert_y_pred_XGB = XGB_final_Bert.predict(Bert_X_test)\n",
    "#test score\n",
    "f1_score(Bert_y_test, Bert_y_pred_XGB)"
   ]
  },
  {
   "cell_type": "code",
   "execution_count": 50,
   "metadata": {},
   "outputs": [
    {
     "name": "stdout",
     "output_type": "stream",
     "text": [
      "Fitting 5 folds for each of 10 candidates, totalling 50 fits\n"
     ]
    },
    {
     "name": "stderr",
     "output_type": "stream",
     "text": [
      "c:\\Users\\victo\\anaconda3\\lib\\site-packages\\xgboost\\data.py:250: FutureWarning: pandas.Int64Index is deprecated and will be removed from pandas in a future version. Use pandas.Index with the appropriate dtype instead.\n",
      "  elif isinstance(data.columns, (pd.Int64Index, pd.RangeIndex)):\n"
     ]
    },
    {
     "name": "stdout",
     "output_type": "stream",
     "text": [
      "[12:57:59] WARNING: C:\\Windows\\Temp\\abs_557yfx631l\\croots\\recipe\\xgboost-split_1659548953302\\work\\src\\learner.cc:576: \n",
      "Parameters: { \"colsample_bytree:\" } might not be used.\n",
      "\n",
      "  This could be a false alarm, with some parameters getting used by language bindings but\n",
      "  then being mistakenly passed down to XGBoost core, or some parameter actually being used\n",
      "  but getting flagged wrongly here. Please open an issue if you find any such cases.\n",
      "\n",
      "\n",
      "[12:57:59] WARNING: C:\\Windows\\Temp\\abs_557yfx631l\\croots\\recipe\\xgboost-split_1659548953302\\work\\src\\learner.cc:1115: Starting in XGBoost 1.3.0, the default evaluation metric used with the objective 'binary:logistic' was changed from 'error' to 'logloss'. Explicitly set eval_metric if you'd like to restore the old behavior.\n",
      " Results from Randomized Search \n",
      "\\n The best estimator across ALL searched params:\\n XGBClassifier(base_score=0.5, booster='gbtree', colsample_bylevel=1,\n",
      "              colsample_bynode=1, colsample_bytree=1, colsample_bytree:=0.5,\n",
      "              enable_categorical=False, eta=0.26, gamma=3, gpu_id=-1,\n",
      "              importance_type=None, interaction_constraints='',\n",
      "              learning_rate=0.25999999, max_delta_step=0, max_depth=3,\n",
      "              min_child_weight=1, missing=nan, monotone_constraints='()',\n",
      "              n_estimators=100, n_jobs=12, num_parallel_tree=1,\n",
      "              predictor='auto', random_state=101, reg_alpha=0, reg_lambda=1,\n",
      "              scale_pos_weight=4.045069258, seed=101,\n",
      "              subsample=0.8999999999999999, tree_method='exact',\n",
      "              use_label_encoder=False, ...)\n",
      "\\n The best score across ALL searched params:\\n 0.43812266457694093\n",
      "\\n The best parameters across ALL searched params:\\n {'subsample': 0.8999999999999999, 'scale_pos_weight': 4.045069258, 'objective': 'binary:logistic', 'min_child_weight': 1, 'max_depth': 3, 'gamma': 3, 'eta': 0.26, 'colsample_bytree:': 0.5}\n"
     ]
    }
   ],
   "source": [
    "#Bertopic selected\n",
    "Randomized_search_XGB_Bert_selected = RandomizedSearchCV(XGB, parameters_XGB, verbose=1, scoring=\"f1\", n_jobs = 2)\n",
    "Randomized_search_XGB_Bert_selected.fit(Bert_X_selected_train, Bert_y_selected_train)\n",
    "print(\" Results from Randomized Search \" )\n",
    "print(\"\\\\n The best estimator across ALL searched params:\\\\n\",Randomized_search_XGB_Bert_selected.best_estimator_)\n",
    "print(\"\\\\n The best score across ALL searched params:\\\\n\",Randomized_search_XGB_Bert_selected.best_score_)\n",
    "print(\"\\\\n The best parameters across ALL searched params:\\\\n\",Randomized_search_XGB_Bert_selected.best_params_)"
   ]
  },
  {
   "cell_type": "code",
   "execution_count": 51,
   "metadata": {},
   "outputs": [
    {
     "name": "stdout",
     "output_type": "stream",
     "text": [
      "[12:58:11] WARNING: C:\\Windows\\Temp\\abs_557yfx631l\\croots\\recipe\\xgboost-split_1659548953302\\work\\src\\learner.cc:576: \n",
      "Parameters: { \"colsample_bytree:\" } might not be used.\n",
      "\n",
      "  This could be a false alarm, with some parameters getting used by language bindings but\n",
      "  then being mistakenly passed down to XGBoost core, or some parameter actually being used\n",
      "  but getting flagged wrongly here. Please open an issue if you find any such cases.\n",
      "\n",
      "\n",
      "[12:58:11] WARNING: C:\\Windows\\Temp\\abs_557yfx631l\\croots\\recipe\\xgboost-split_1659548953302\\work\\src\\learner.cc:1115: Starting in XGBoost 1.3.0, the default evaluation metric used with the objective 'binary:logistic' was changed from 'error' to 'logloss'. Explicitly set eval_metric if you'd like to restore the old behavior.\n"
     ]
    },
    {
     "data": {
      "text/plain": [
       "0.45103092783505155"
      ]
     },
     "execution_count": 51,
     "metadata": {},
     "output_type": "execute_result"
    }
   ],
   "source": [
    "#Bertopic selected final\n",
    "XGB_final_Bert_selected = Randomized_search_XGB_Bert_selected.best_estimator_\n",
    "XGB_final_Bert_selected.fit(Bert_X_selected_train, Bert_y_selected_train)\n",
    "Bert_y_selected_pred_XGB = XGB_final_Bert_selected.predict(Bert_X_selected_test)\n",
    "#test score\n",
    "f1_score(Bert_y_selected_test, Bert_y_selected_pred_XGB)"
   ]
  }
 ],
 "metadata": {
  "kernelspec": {
   "display_name": "base",
   "language": "python",
   "name": "python3"
  },
  "language_info": {
   "codemirror_mode": {
    "name": "ipython",
    "version": 3
   },
   "file_extension": ".py",
   "mimetype": "text/x-python",
   "name": "python",
   "nbconvert_exporter": "python",
   "pygments_lexer": "ipython3",
   "version": "3.9.13"
  },
  "orig_nbformat": 4
 },
 "nbformat": 4,
 "nbformat_minor": 2
}
