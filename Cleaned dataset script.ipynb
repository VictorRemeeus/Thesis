{
 "cells": [
  {
   "attachments": {},
   "cell_type": "markdown",
   "metadata": {},
   "source": [
    "Combining Meta-data and review data"
   ]
  },
  {
   "attachments": {},
   "cell_type": "markdown",
   "metadata": {},
   "source": [
    "Subsetting: https://stackoverflow.com/questions/11350770/filter-pandas-dataframe-by-substring-criteria \\\n",
    "replacing values: https://pandas.pydata.org/docs/reference/api/pandas.DataFrame.replace.html \\\n",
    "Lemmatization: https://stackoverflow.com/questions/47498293/how-to-lemmatize-strings-in-pandas-dataframes \\\n",
    "stopword removal: https://stackoverflow.com/questions/29523254/python-remove-stop-words-from-pandas-dataframe \\\n",
    "adding own stopwords: https://stackoverflow.com/questions/26826002/adding-words-to-stop-words-list-in-tfidfvectorizer-in-sklearn\n",
    "cleaning text: https://www.youtube.com/watch?v=8Fw1nh8lR54\n"
   ]
  },
  {
   "cell_type": "code",
   "execution_count": null,
   "metadata": {},
   "outputs": [],
   "source": [
    "import pandas\n",
    "import numpy as np\n",
    "import copy\n",
    "from sklearn.feature_extraction.text import ENGLISH_STOP_WORDS\n",
    "import nltk\n",
    "from nltk.stem import WordNetLemmatizer\n",
    "lemmatizer = WordNetLemmatizer()\n",
    "from wordcloud import WordCloud\n",
    "from matplotlib import pyplot as plt\n",
    "import spacy\n",
    "nlp = spacy.load(\"en_core_web_sm\")"
   ]
  },
  {
   "cell_type": "code",
   "execution_count": null,
   "metadata": {},
   "outputs": [],
   "source": [
    "#loading in the two review datasets and the metadata dataset\n",
    "review1 = pandas.read_csv(\"F:\\Master\\Block 3\\Thesis proposal\\Scripts new\\dataset.csv\")\n",
    "meta_data = pandas.read_csv(\"F:\\Master\\Block 3\\Thesis proposal\\Scripts new\\Metadata.csv\", sep = \";\")"
   ]
  },
  {
   "cell_type": "code",
   "execution_count": null,
   "metadata": {},
   "outputs": [],
   "source": [
    "#checking the first 5 rows of every dataset\n",
    "print(review1.head())\n",
    "print(meta_data.head())\n",
    "\n",
    "#checking all the columns of the dataset to determine which ones to drop\n",
    "print(review1.columns)\n",
    "print(meta_data.columns)\n",
    "\n"
   ]
  },
  {
   "cell_type": "code",
   "execution_count": null,
   "metadata": {},
   "outputs": [],
   "source": [
    "# dropping columns \n",
    "review1 = review1.drop([\"review_votes\"], axis = 1)\n",
    "\n",
    "\n",
    "#Choosing columns in metadata dataset\n",
    "meta_data = meta_data[[\"App ID\", \"Tags\"]]\n"
   ]
  },
  {
   "cell_type": "code",
   "execution_count": null,
   "metadata": {},
   "outputs": [],
   "source": [
    "#Making the positive class the minority class (negative reviews), thus making the positive class the negative class\n",
    "review1[\"review_score\"].value_counts()\n",
    "\n",
    "\n",
    "review1[\"review_score\"] = review1[\"review_score\"].replace(1,0)\n",
    "review1[\"review_score\"] = review1[\"review_score\"].replace(-1,1)"
   ]
  },
  {
   "cell_type": "code",
   "execution_count": null,
   "metadata": {},
   "outputs": [],
   "source": [
    "#merging the metadata with the dataset of the reviews\n",
    "complete = review1.merge(meta_data, 'inner', left_on='app_id', right_on= \"App ID\")\n",
    "\n",
    "\n",
    "#dropping all reviews which have lower than 600 characters\n",
    "Complete_600 = complete[complete['review_text'].apply(lambda x: len(str(x)) >=600)]"
   ]
  },
  {
   "cell_type": "code",
   "execution_count": null,
   "metadata": {},
   "outputs": [],
   "source": [
    "#seperating dataset for CTM and BerTopic\n",
    "Dataset_Bert = Complete_600\n",
    "Dataset_CTM = copy.deepcopy(Complete_600)\n",
    "\n"
   ]
  },
  {
   "attachments": {},
   "cell_type": "markdown",
   "metadata": {},
   "source": [
    "Text Cleaning"
   ]
  },
  {
   "cell_type": "code",
   "execution_count": null,
   "metadata": {},
   "outputs": [],
   "source": [
    "\n",
    "#cleaning data: removing capital letters \n",
    "Dataset_CTM[\"review_text\"] = Dataset_CTM[\"review_text\"].str.lower()\n",
    "\n",
    "#cleaning data: removing punctuation \n",
    "Dataset_CTM[\"review_text\"] = Dataset_CTM[\"review_text\"].str.replace('[^\\w\\s]','')\n",
    "Dataset_CTM[\"review_text\"] = Dataset_CTM[\"review_text\"].str.replace('_','')\n",
    "\n",
    "#cleaning data: removing numbers \n",
    "Dataset_CTM[\"review_text\"]  = Dataset_CTM[\"review_text\"].str.replace('\\d+', '')\n",
    "\n",
    "#removing stopwords\n",
    "additional = [\"game\", \"play\"]\n",
    "stop = ENGLISH_STOP_WORDS.union(additional)\n",
    "Dataset_CTM[\"review_text\"]  = Dataset_CTM[\"review_text\"].apply(lambda x: ' '.join([word for word in x.split() if word not in (stop)]))\n",
    "\n",
    "#looking at a worldcloud to see if there lammetizing was succesful\n",
    "text = Dataset_CTM['review_text'].values \n",
    "\n",
    "wordcloud = WordCloud().generate(str(text))\n",
    "\n",
    "plt.imshow(wordcloud)\n",
    "plt.axis(\"off\")\n",
    "plt.show()\n",
    "\n",
    "#lemmentizing the words \n",
    "\n",
    "\n",
    "Dataset_CTM[\"review_text\"] = Dataset_CTM[\"review_text\"].apply(lambda row: \" \".join([w.lemma_ for w in nlp(row)]))\n",
    "\n",
    "#looking at a worldcloud to see if there lammetizing was succesful\n",
    "text = Dataset_CTM['review_text'].values \n",
    "\n",
    "wordcloud = WordCloud().generate(str(text))\n",
    "\n",
    "plt.imshow(wordcloud)\n",
    "plt.axis(\"off\")\n",
    "plt.show()\n",
    "\n"
   ]
  },
  {
   "attachments": {},
   "cell_type": "markdown",
   "metadata": {},
   "source": [
    "Tag subsetting CTM"
   ]
  },
  {
   "cell_type": "code",
   "execution_count": null,
   "metadata": {},
   "outputs": [],
   "source": [
    "#cleaning leftover NA values\n",
    "Dataset_CTM.head()\n",
    "Dataset_CTM.isna().sum()\n",
    "Dataset_CTM = Dataset_CTM[Dataset_CTM[\"review_text\"].notna()]\n",
    "Dataset_CTM[\"Tags\"].nunique()"
   ]
  },
  {
   "cell_type": "code",
   "execution_count": null,
   "metadata": {},
   "outputs": [],
   "source": [
    "#Sample dataset\n",
    "Dataset_CTM_sample = Dataset_CTM.groupby(\"Tags\").sample(n=4, random_state=101, replace=True)\n",
    "Dataset_CTM_sample = Dataset_CTM_sample.drop_duplicates(subset=[\"review_text\",\"App ID\"])\n",
    "Dataset_CTM_sample\n",
    "Dataset_CTM_sample[\"Tags\"].value_counts()\n"
   ]
  },
  {
   "cell_type": "code",
   "execution_count": null,
   "metadata": {},
   "outputs": [],
   "source": [
    "#JRPG dataset\n",
    "Dataset_CTM_JRPG = Dataset_CTM[Dataset_CTM[\"Tags\"].str.contains(\"JRPG\", case = False)]\n",
    "Dataset_CTM_JRPG\n",
    "Dataset_CTM_JRPG[\"App ID\"].nunique()\n",
    "Dataset_CTM_JRPG[\"review_score\"].value_counts()\n",
    "Dataset_CTM_JRPG.to_csv(\"JRPG.csv\")"
   ]
  },
  {
   "cell_type": "code",
   "execution_count": null,
   "metadata": {},
   "outputs": [],
   "source": [
    "#roguelite dataset\n",
    "Dataset_CTM_RL = Dataset_CTM[Dataset_CTM[\"Tags\"].str.contains(\"rogue-lite\", case = False, regex= False)]\n",
    "Dataset_CTM_RL\n",
    "Dataset_CTM_RL[\"App ID\"].nunique()\n",
    "Dataset_CTM_RL[\"review_score\"].value_counts()"
   ]
  },
  {
   "cell_type": "code",
   "execution_count": null,
   "metadata": {},
   "outputs": [],
   "source": [
    "#visual novel dataset\n",
    "Dataset_CTM_novel = Dataset_CTM[Dataset_CTM[\"Tags\"].str.contains(\"visual novel\", case = False)]\n",
    "Dataset_CTM_novel\n",
    "Dataset_CTM_novel[\"App ID\"].nunique()\n",
    "Dataset_CTM_novel[\"review_score\"].value_counts()"
   ]
  },
  {
   "cell_type": "code",
   "execution_count": null,
   "metadata": {},
   "outputs": [],
   "source": [
    "#dungeon crawler dataset\n",
    "Dataset_CTM_dungeon = Dataset_CTM[Dataset_CTM[\"Tags\"].str.contains(\"dungeon crawler\", case = False)]\n",
    "Dataset_CTM_dungeon\n",
    "Dataset_CTM_dungeon[\"App ID\"].nunique()\n",
    "Dataset_CTM_dungeon[\"review_score\"].value_counts()"
   ]
  },
  {
   "cell_type": "code",
   "execution_count": null,
   "metadata": {},
   "outputs": [],
   "source": [
    "#converting subsets to csv\n",
    "Dataset_CTM_JRPG.to_csv(\"JRPG_final.csv\", index=False)\n",
    "Dataset_CTM_novel.to_csv(\"novel_final.csv\", index=False)\n",
    "Dataset_CTM_dungeon.to_csv(\"dungeon_final.csv\", index=False)\n",
    "Dataset_CTM_sample.to_csv(\"sample.csv\", index=False)\n",
    "Dataset_CTM_RL.to_csv(\"rogue_lite_final.csv\", index=False)"
   ]
  },
  {
   "attachments": {},
   "cell_type": "markdown",
   "metadata": {},
   "source": [
    "Subset_BerTopic"
   ]
  },
  {
   "cell_type": "code",
   "execution_count": null,
   "metadata": {},
   "outputs": [],
   "source": [
    "#cleaning leftover NA values\n",
    "Dataset_Bert.head()\n",
    "Dataset_Bert.isna().sum()\n",
    "Dataset_Bert = Dataset_Bert[Dataset_Bert[\"review_text\"].notna()]\n",
    "Dataset_Bert[\"Tags\"].nunique()"
   ]
  },
  {
   "cell_type": "code",
   "execution_count": null,
   "metadata": {},
   "outputs": [],
   "source": [
    "#Sample dataset\n",
    "Dataset_Bert_sample = Dataset_Bert.groupby(\"Tags\").sample(n=4, random_state=101, replace=True)\n",
    "Dataset_Bert_sample = Dataset_Bert_sample.drop_duplicates(subset=[\"review_text\",\"App ID\"])\n",
    "Dataset_Bert_sample\n",
    "Dataset_Bert_sample[\"Tags\"].value_counts()"
   ]
  },
  {
   "cell_type": "code",
   "execution_count": null,
   "metadata": {},
   "outputs": [],
   "source": [
    "#JRPG dataset\n",
    "Dataset_Bert_JRPG = Dataset_Bert[Dataset_Bert[\"Tags\"].str.contains(\"JRPG\", case = False)]\n",
    "Dataset_Bert_JRPG\n",
    "Dataset_Bert_JRPG[\"App ID\"].nunique()\n",
    "Dataset_Bert_JRPG[\"review_score\"].value_counts()\n",
    "Dataset_Bert_JRPG.to_csv(\"JRPG.csv\")"
   ]
  },
  {
   "cell_type": "code",
   "execution_count": null,
   "metadata": {},
   "outputs": [],
   "source": [
    "#roguelite dataset\n",
    "Dataset_Bert_RL = Dataset_Bert[Dataset_Bert[\"Tags\"].str.contains(\"rogue-lite\", case = False, regex= False)]\n",
    "Dataset_Bert_RL\n",
    "Dataset_Bert_RL[\"App ID\"].nunique()\n",
    "Dataset_Bert_RL[\"review_score\"].value_counts()"
   ]
  },
  {
   "cell_type": "code",
   "execution_count": null,
   "metadata": {},
   "outputs": [],
   "source": [
    "#visual novel dataset\n",
    "Dataset_Bert_novel = Dataset_Bert[Dataset_Bert[\"Tags\"].str.contains(\"visual novel\", case = False)]\n",
    "Dataset_Bert_novel\n",
    "Dataset_Bert_novel[\"App ID\"].nunique()\n",
    "Dataset_Bert_novel[\"review_score\"].value_counts()"
   ]
  },
  {
   "cell_type": "code",
   "execution_count": null,
   "metadata": {},
   "outputs": [],
   "source": [
    "#dungeon crawler dataset\n",
    "Dataset_Bert_dungeon = Dataset_Bert[Dataset_Bert[\"Tags\"].str.contains(\"dungeon crawler\", case = False)]\n",
    "Dataset_Bert_dungeon\n",
    "Dataset_Bert_dungeon[\"App ID\"].nunique()\n",
    "Dataset_Bert_dungeon[\"review_score\"].value_counts()"
   ]
  },
  {
   "cell_type": "code",
   "execution_count": null,
   "metadata": {},
   "outputs": [],
   "source": [
    "#converting subsets to csv\n",
    "Dataset_Bert_JRPG.to_csv(\"JRPG_final_Bert.csv\", index=False)\n",
    "Dataset_Bert_novel.to_csv(\"novel_final_Bert.csv\", index=False)\n",
    "Dataset_Bert_dungeon.to_csv(\"dungeon_final_Bert.csv\", index=False)\n",
    "Dataset_Bert_sample.to_csv(\"sample.csv_Bert\", index=False)\n",
    "Dataset_Bert_RL.to_csv(\"rogue_lite_final_Bert.csv\", index=False)"
   ]
  }
 ],
 "metadata": {
  "language_info": {
   "name": "python"
  },
  "orig_nbformat": 4
 },
 "nbformat": 4,
 "nbformat_minor": 2
}
